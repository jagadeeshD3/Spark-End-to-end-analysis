{
  "nbformat": 4,
  "nbformat_minor": 0,
  "metadata": {
    "colab": {
      "provenance": [],
      "authorship_tag": "ABX9TyN+VAmt/E7AhjBheOlBYEJn",
      "include_colab_link": true
    },
    "kernelspec": {
      "name": "python3",
      "display_name": "Python 3"
    },
    "language_info": {
      "name": "python"
    }
  },
  "cells": [
    {
      "cell_type": "markdown",
      "metadata": {
        "id": "view-in-github",
        "colab_type": "text"
      },
      "source": [
        "<a href=\"https://colab.research.google.com/github/jagadeeshD3/Spark-End-to-end-analysis/blob/main/pyspark_end_to_end.ipynb\" target=\"_parent\"><img src=\"https://colab.research.google.com/assets/colab-badge.svg\" alt=\"Open In Colab\"/></a>"
      ]
    },
    {
      "cell_type": "code",
      "execution_count": null,
      "metadata": {
        "colab": {
          "base_uri": "https://localhost:8080/"
        },
        "id": "wXnG9sEKkYNf",
        "outputId": "2e1be7a8-4c1f-40e6-86f0-3f81ce744fff"
      },
      "outputs": [
        {
          "output_type": "stream",
          "name": "stdout",
          "text": [
            "Collecting pyspark\n",
            "  Downloading pyspark-3.5.1.tar.gz (317.0 MB)\n",
            "\u001b[2K     \u001b[90m━━━━━━━━━━━━━━━━━━━━━━━━━━━━━━━━━━━━━━━━\u001b[0m \u001b[32m317.0/317.0 MB\u001b[0m \u001b[31m3.8 MB/s\u001b[0m eta \u001b[36m0:00:00\u001b[0m\n",
            "\u001b[?25h  Preparing metadata (setup.py) ... \u001b[?25l\u001b[?25hdone\n",
            "Requirement already satisfied: py4j==0.10.9.7 in /usr/local/lib/python3.10/dist-packages (from pyspark) (0.10.9.7)\n",
            "Building wheels for collected packages: pyspark\n",
            "  Building wheel for pyspark (setup.py) ... \u001b[?25l\u001b[?25hdone\n",
            "  Created wheel for pyspark: filename=pyspark-3.5.1-py2.py3-none-any.whl size=317488491 sha256=d309828e61b1297b1163315495271f77ab22e45e4010eae2ce0021df1b61da1c\n",
            "  Stored in directory: /root/.cache/pip/wheels/80/1d/60/2c256ed38dddce2fdd93be545214a63e02fbd8d74fb0b7f3a6\n",
            "Successfully built pyspark\n",
            "Installing collected packages: pyspark\n",
            "Successfully installed pyspark-3.5.1\n"
          ]
        }
      ],
      "source": [
        "!pip install pyspark"
      ]
    },
    {
      "cell_type": "code",
      "source": [
        "from pyspark.sql import SparkSession\n",
        "\n",
        "spark = SparkSession.builder.appName(\"spark end to end project\").getOrCreate()\n",
        "\n",
        "print(spark)"
      ],
      "metadata": {
        "colab": {
          "base_uri": "https://localhost:8080/"
        },
        "id": "kzT1v4zGkdSl",
        "outputId": "8a702a89-8a56-497c-80d0-ad653e12378a"
      },
      "execution_count": null,
      "outputs": [
        {
          "output_type": "stream",
          "name": "stdout",
          "text": [
            "<pyspark.sql.session.SparkSession object at 0x79b359d8e260>\n"
          ]
        }
      ]
    },
    {
      "cell_type": "code",
      "source": [
        "print(spark.version)"
      ],
      "metadata": {
        "colab": {
          "base_uri": "https://localhost:8080/"
        },
        "id": "rUUyzmrdkxoX",
        "outputId": "36fe76c7-a4c8-4ccd-e4aa-a32b304c3cf4"
      },
      "execution_count": null,
      "outputs": [
        {
          "output_type": "stream",
          "name": "stdout",
          "text": [
            "3.5.1\n"
          ]
        }
      ]
    },
    {
      "cell_type": "code",
      "source": [
        "import pandas as pd\n",
        "import numpy as np\n",
        "\n",
        "#create pd_temp\n",
        "pd_temp = pd.DataFrame(np.random.random(10))\n",
        "\n",
        "#create spark_temp from pd_temp\n",
        "spark_temp = spark.createDataFrame(pd_temp)\n",
        "\n",
        "#Examine the tables in the catalog\n",
        "print(spark.catalog.listTables())\n",
        "\n",
        "#Add spark_temp to the catalog\n",
        "spark_temp.createOrReplaceTempView(\"temp\")\n",
        "\n",
        "#Examine the tables in the spark catalog\n",
        "print(spark.catalog.listTables())"
      ],
      "metadata": {
        "colab": {
          "base_uri": "https://localhost:8080/"
        },
        "id": "emc23srLk5Zg",
        "outputId": "733316b4-4242-48ad-811f-c28bacfa5d59"
      },
      "execution_count": null,
      "outputs": [
        {
          "output_type": "stream",
          "name": "stdout",
          "text": [
            "[]\n",
            "[Table(name='temp', catalog=None, namespace=[], description=None, tableType='TEMPORARY', isTemporary=True)]\n"
          ]
        }
      ]
    },
    {
      "cell_type": "code",
      "source": [
        "#Read csv file\n",
        "airports = spark.read.csv(\"/content/airports.csv\",header=True,inferSchema=True)"
      ],
      "metadata": {
        "id": "JhUABEsqlWf-"
      },
      "execution_count": null,
      "outputs": []
    },
    {
      "cell_type": "code",
      "source": [
        "airports.show(5)"
      ],
      "metadata": {
        "colab": {
          "base_uri": "https://localhost:8080/"
        },
        "id": "BAU3QH-emKuP",
        "outputId": "d39122c9-6cfa-490f-a974-ad2fefee64ec"
      },
      "execution_count": null,
      "outputs": [
        {
          "output_type": "stream",
          "name": "stdout",
          "text": [
            "+---+--------------------+----------+-----------+----+---+---+\n",
            "|faa|                name|       lat|        lon| alt| tz|dst|\n",
            "+---+--------------------+----------+-----------+----+---+---+\n",
            "|04G|   Lansdowne Airport|41.1304722|-80.6195833|1044| -5|  A|\n",
            "|06A|Moton Field Munic...|32.4605722|-85.6800278| 264| -5|  A|\n",
            "|06C| Schaumburg Regional|41.9893408|-88.1012428| 801| -6|  A|\n",
            "|06N|     Randall Airport| 41.431912|-74.3915611| 523| -5|  A|\n",
            "|09J|Jekyll Island Air...|31.0744722|-81.4277778|  11| -4|  A|\n",
            "+---+--------------------+----------+-----------+----+---+---+\n",
            "only showing top 5 rows\n",
            "\n"
          ]
        }
      ]
    },
    {
      "cell_type": "code",
      "source": [
        "type(airports)"
      ],
      "metadata": {
        "colab": {
          "base_uri": "https://localhost:8080/",
          "height": 186
        },
        "id": "N1jOi80DmNQI",
        "outputId": "a8628d93-9535-48ec-9695-79d0afff5156"
      },
      "execution_count": null,
      "outputs": [
        {
          "output_type": "execute_result",
          "data": {
            "text/plain": [
              "pyspark.sql.dataframe.DataFrame"
            ],
            "text/html": [
              "<div style=\"max-width:800px; border: 1px solid var(--colab-border-color);\"><style>\n",
              "      pre.function-repr-contents {\n",
              "        overflow-x: auto;\n",
              "        padding: 8px 12px;\n",
              "        max-height: 500px;\n",
              "      }\n",
              "\n",
              "      pre.function-repr-contents.function-repr-contents-collapsed {\n",
              "        cursor: pointer;\n",
              "        max-height: 100px;\n",
              "      }\n",
              "    </style>\n",
              "    <pre style=\"white-space: initial; background:\n",
              "         var(--colab-secondary-surface-color); padding: 8px 12px;\n",
              "         border-bottom: 1px solid var(--colab-border-color);\"><b>pyspark.sql.dataframe.DataFrame</b><br/>def __init__(jdf: JavaObject, sql_ctx: Union[&#x27;SQLContext&#x27;, &#x27;SparkSession&#x27;])</pre><pre class=\"function-repr-contents function-repr-contents-collapsed\" style=\"\"><a class=\"filepath\" style=\"display:none\" href=\"#\">/usr/local/lib/python3.10/dist-packages/pyspark/sql/dataframe.py</a>A distributed collection of data grouped into named columns.\n",
              "\n",
              ".. versionadded:: 1.3.0\n",
              "\n",
              ".. versionchanged:: 3.4.0\n",
              "    Supports Spark Connect.\n",
              "\n",
              "Examples\n",
              "--------\n",
              "A :class:`DataFrame` is equivalent to a relational table in Spark SQL,\n",
              "and can be created using various functions in :class:`SparkSession`:\n",
              "\n",
              "&gt;&gt;&gt; people = spark.createDataFrame([\n",
              "...     {&quot;deptId&quot;: 1, &quot;age&quot;: 40, &quot;name&quot;: &quot;Hyukjin Kwon&quot;, &quot;gender&quot;: &quot;M&quot;, &quot;salary&quot;: 50},\n",
              "...     {&quot;deptId&quot;: 1, &quot;age&quot;: 50, &quot;name&quot;: &quot;Takuya Ueshin&quot;, &quot;gender&quot;: &quot;M&quot;, &quot;salary&quot;: 100},\n",
              "...     {&quot;deptId&quot;: 2, &quot;age&quot;: 60, &quot;name&quot;: &quot;Xinrong Meng&quot;, &quot;gender&quot;: &quot;F&quot;, &quot;salary&quot;: 150},\n",
              "...     {&quot;deptId&quot;: 3, &quot;age&quot;: 20, &quot;name&quot;: &quot;Haejoon Lee&quot;, &quot;gender&quot;: &quot;M&quot;, &quot;salary&quot;: 200}\n",
              "... ])\n",
              "\n",
              "Once created, it can be manipulated using the various domain-specific-language\n",
              "(DSL) functions defined in: :class:`DataFrame`, :class:`Column`.\n",
              "\n",
              "To select a column from the :class:`DataFrame`, use the apply method:\n",
              "\n",
              "&gt;&gt;&gt; age_col = people.age\n",
              "\n",
              "A more concrete example:\n",
              "\n",
              "&gt;&gt;&gt; # To create DataFrame using SparkSession\n",
              "... department = spark.createDataFrame([\n",
              "...     {&quot;id&quot;: 1, &quot;name&quot;: &quot;PySpark&quot;},\n",
              "...     {&quot;id&quot;: 2, &quot;name&quot;: &quot;ML&quot;},\n",
              "...     {&quot;id&quot;: 3, &quot;name&quot;: &quot;Spark SQL&quot;}\n",
              "... ])\n",
              "\n",
              "&gt;&gt;&gt; people.filter(people.age &gt; 30).join(\n",
              "...     department, people.deptId == department.id).groupBy(\n",
              "...     department.name, &quot;gender&quot;).agg({&quot;salary&quot;: &quot;avg&quot;, &quot;age&quot;: &quot;max&quot;}).show()\n",
              "+-------+------+-----------+--------+\n",
              "|   name|gender|avg(salary)|max(age)|\n",
              "+-------+------+-----------+--------+\n",
              "|     ML|     F|      150.0|      60|\n",
              "|PySpark|     M|       75.0|      50|\n",
              "+-------+------+-----------+--------+\n",
              "\n",
              "Notes\n",
              "-----\n",
              "A DataFrame should only be created as described above. It should not be directly\n",
              "created via using the constructor.</pre>\n",
              "      <script>\n",
              "      if (google.colab.kernel.accessAllowed && google.colab.files && google.colab.files.view) {\n",
              "        for (const element of document.querySelectorAll('.filepath')) {\n",
              "          element.style.display = 'block'\n",
              "          element.onclick = (event) => {\n",
              "            event.preventDefault();\n",
              "            event.stopPropagation();\n",
              "            google.colab.files.view(element.textContent, 80);\n",
              "          };\n",
              "        }\n",
              "      }\n",
              "      for (const element of document.querySelectorAll('.function-repr-contents')) {\n",
              "        element.onclick = (event) => {\n",
              "          event.preventDefault();\n",
              "          event.stopPropagation();\n",
              "          element.classList.toggle('function-repr-contents-collapsed');\n",
              "        };\n",
              "      }\n",
              "      </script>\n",
              "      </div>"
            ]
          },
          "metadata": {},
          "execution_count": 10
        }
      ]
    },
    {
      "cell_type": "code",
      "source": [
        "spark.catalog.listDatabases"
      ],
      "metadata": {
        "colab": {
          "base_uri": "https://localhost:8080/",
          "height": 186
        },
        "id": "uBDy0a0QmSIc",
        "outputId": "502a0646-36c5-4eb4-8923-a3288876f2a3"
      },
      "execution_count": null,
      "outputs": [
        {
          "output_type": "execute_result",
          "data": {
            "text/plain": [
              "<bound method Catalog.listDatabases of <pyspark.sql.catalog.Catalog object at 0x79b376736020>>"
            ],
            "text/html": [
              "<div style=\"max-width:800px; border: 1px solid var(--colab-border-color);\"><style>\n",
              "      pre.function-repr-contents {\n",
              "        overflow-x: auto;\n",
              "        padding: 8px 12px;\n",
              "        max-height: 500px;\n",
              "      }\n",
              "\n",
              "      pre.function-repr-contents.function-repr-contents-collapsed {\n",
              "        cursor: pointer;\n",
              "        max-height: 100px;\n",
              "      }\n",
              "    </style>\n",
              "    <pre style=\"white-space: initial; background:\n",
              "         var(--colab-secondary-surface-color); padding: 8px 12px;\n",
              "         border-bottom: 1px solid var(--colab-border-color);\"><b>pyspark.sql.catalog.Catalog.listDatabases</b><br/>def listDatabases(pattern: Optional[str]=None) -&gt; List[Database]</pre><pre class=\"function-repr-contents function-repr-contents-collapsed\" style=\"\"><a class=\"filepath\" style=\"display:none\" href=\"#\">/usr/local/lib/python3.10/dist-packages/pyspark/sql/catalog.py</a>Returns a list of databases available across all sessions.\n",
              "\n",
              ".. versionadded:: 2.0.0\n",
              "\n",
              "Parameters\n",
              "----------\n",
              "pattern : str\n",
              "    The pattern that the database name needs to match.\n",
              "\n",
              "    .. versionchanged: 3.5.0\n",
              "        Adds ``pattern`` argument.\n",
              "\n",
              "Returns\n",
              "-------\n",
              "list\n",
              "    A list of :class:`Database`.\n",
              "\n",
              "Examples\n",
              "--------\n",
              "&gt;&gt;&gt; spark.catalog.listDatabases()\n",
              "[Database(name=&#x27;default&#x27;, catalog=&#x27;spark_catalog&#x27;, description=&#x27;default database&#x27;, ...\n",
              "\n",
              "&gt;&gt;&gt; spark.catalog.listDatabases(&quot;def*&quot;)\n",
              "[Database(name=&#x27;default&#x27;, catalog=&#x27;spark_catalog&#x27;, description=&#x27;default database&#x27;, ...\n",
              "\n",
              "&gt;&gt;&gt; spark.catalog.listDatabases(&quot;def2*&quot;)\n",
              "[]</pre>\n",
              "      <script>\n",
              "      if (google.colab.kernel.accessAllowed && google.colab.files && google.colab.files.view) {\n",
              "        for (const element of document.querySelectorAll('.filepath')) {\n",
              "          element.style.display = 'block'\n",
              "          element.onclick = (event) => {\n",
              "            event.preventDefault();\n",
              "            event.stopPropagation();\n",
              "            google.colab.files.view(element.textContent, 193);\n",
              "          };\n",
              "        }\n",
              "      }\n",
              "      for (const element of document.querySelectorAll('.function-repr-contents')) {\n",
              "        element.onclick = (event) => {\n",
              "          event.preventDefault();\n",
              "          event.stopPropagation();\n",
              "          element.classList.toggle('function-repr-contents-collapsed');\n",
              "        };\n",
              "      }\n",
              "      </script>\n",
              "      </div>"
            ]
          },
          "metadata": {},
          "execution_count": 11
        }
      ]
    },
    {
      "cell_type": "code",
      "source": [
        "flights = spark.read.csv(\"/content/flights_small.csv\",header = True,inferSchema=True)"
      ],
      "metadata": {
        "id": "YI5z99YNmhmL"
      },
      "execution_count": null,
      "outputs": []
    },
    {
      "cell_type": "code",
      "source": [
        "flights.show(10)"
      ],
      "metadata": {
        "colab": {
          "base_uri": "https://localhost:8080/"
        },
        "id": "A5rTNwt8m0hV",
        "outputId": "2fda33ee-43ad-4c7c-cc4a-9a90160e3738"
      },
      "execution_count": null,
      "outputs": [
        {
          "output_type": "stream",
          "name": "stdout",
          "text": [
            "+----+-----+---+--------+---------+--------+---------+-------+-------+------+------+----+--------+--------+----+------+\n",
            "|year|month|day|dep_time|dep_delay|arr_time|arr_delay|carrier|tailnum|flight|origin|dest|air_time|distance|hour|minute|\n",
            "+----+-----+---+--------+---------+--------+---------+-------+-------+------+------+----+--------+--------+----+------+\n",
            "|2014|   12|  8|     658|       -7|     935|       -5|     VX| N846VA|  1780|   SEA| LAX|     132|     954|   6|    58|\n",
            "|2014|    1| 22|    1040|        5|    1505|        5|     AS| N559AS|   851|   SEA| HNL|     360|    2677|  10|    40|\n",
            "|2014|    3|  9|    1443|       -2|    1652|        2|     VX| N847VA|   755|   SEA| SFO|     111|     679|  14|    43|\n",
            "|2014|    4|  9|    1705|       45|    1839|       34|     WN| N360SW|   344|   PDX| SJC|      83|     569|  17|     5|\n",
            "|2014|    3|  9|     754|       -1|    1015|        1|     AS| N612AS|   522|   SEA| BUR|     127|     937|   7|    54|\n",
            "|2014|    1| 15|    1037|        7|    1352|        2|     WN| N646SW|    48|   PDX| DEN|     121|     991|  10|    37|\n",
            "|2014|    7|  2|     847|       42|    1041|       51|     WN| N422WN|  1520|   PDX| OAK|      90|     543|   8|    47|\n",
            "|2014|    5| 12|    1655|       -5|    1842|      -18|     VX| N361VA|   755|   SEA| SFO|      98|     679|  16|    55|\n",
            "|2014|    4| 19|    1236|       -4|    1508|       -7|     AS| N309AS|   490|   SEA| SAN|     135|    1050|  12|    36|\n",
            "|2014|   11| 19|    1812|       -3|    2352|       -4|     AS| N564AS|    26|   SEA| ORD|     198|    1721|  18|    12|\n",
            "+----+-----+---+--------+---------+--------+---------+-------+-------+------+------+----+--------+--------+----+------+\n",
            "only showing top 10 rows\n",
            "\n"
          ]
        }
      ]
    },
    {
      "cell_type": "code",
      "source": [
        "flights.createOrReplaceTempView(\"flights\")"
      ],
      "metadata": {
        "id": "MmjlyAZom2aw"
      },
      "execution_count": null,
      "outputs": []
    },
    {
      "cell_type": "code",
      "source": [
        "spark.catalog.listTables()"
      ],
      "metadata": {
        "colab": {
          "base_uri": "https://localhost:8080/"
        },
        "id": "Tksso-aknR4z",
        "outputId": "2f617d28-419e-41d2-eae0-c91c8a273b49"
      },
      "execution_count": null,
      "outputs": [
        {
          "output_type": "execute_result",
          "data": {
            "text/plain": [
              "[Table(name='flights', catalog=None, namespace=[], description=None, tableType='TEMPORARY', isTemporary=True),\n",
              " Table(name='temp', catalog=None, namespace=[], description=None, tableType='TEMPORARY', isTemporary=True)]"
            ]
          },
          "metadata": {},
          "execution_count": 18
        }
      ]
    },
    {
      "cell_type": "code",
      "source": [
        "flights = flights.withColumn(\"duration_hrs\",flights.air_time/60)"
      ],
      "metadata": {
        "id": "lVtp2UAqnTW5"
      },
      "execution_count": null,
      "outputs": []
    },
    {
      "cell_type": "code",
      "source": [
        "flights.show(10)"
      ],
      "metadata": {
        "colab": {
          "base_uri": "https://localhost:8080/"
        },
        "id": "ANKxcnp1nsXy",
        "outputId": "15bd3a9a-0788-4407-c5dc-1bffcdd2e3a9"
      },
      "execution_count": null,
      "outputs": [
        {
          "output_type": "stream",
          "name": "stdout",
          "text": [
            "+----+-----+---+--------+---------+--------+---------+-------+-------+------+------+----+--------+--------+----+------+------------------+\n",
            "|year|month|day|dep_time|dep_delay|arr_time|arr_delay|carrier|tailnum|flight|origin|dest|air_time|distance|hour|minute|      duration_hrs|\n",
            "+----+-----+---+--------+---------+--------+---------+-------+-------+------+------+----+--------+--------+----+------+------------------+\n",
            "|2014|   12|  8|     658|       -7|     935|       -5|     VX| N846VA|  1780|   SEA| LAX|     132|     954|   6|    58|               2.2|\n",
            "|2014|    1| 22|    1040|        5|    1505|        5|     AS| N559AS|   851|   SEA| HNL|     360|    2677|  10|    40|               6.0|\n",
            "|2014|    3|  9|    1443|       -2|    1652|        2|     VX| N847VA|   755|   SEA| SFO|     111|     679|  14|    43|              1.85|\n",
            "|2014|    4|  9|    1705|       45|    1839|       34|     WN| N360SW|   344|   PDX| SJC|      83|     569|  17|     5|1.3833333333333333|\n",
            "|2014|    3|  9|     754|       -1|    1015|        1|     AS| N612AS|   522|   SEA| BUR|     127|     937|   7|    54|2.1166666666666667|\n",
            "|2014|    1| 15|    1037|        7|    1352|        2|     WN| N646SW|    48|   PDX| DEN|     121|     991|  10|    37|2.0166666666666666|\n",
            "|2014|    7|  2|     847|       42|    1041|       51|     WN| N422WN|  1520|   PDX| OAK|      90|     543|   8|    47|               1.5|\n",
            "|2014|    5| 12|    1655|       -5|    1842|      -18|     VX| N361VA|   755|   SEA| SFO|      98|     679|  16|    55|1.6333333333333333|\n",
            "|2014|    4| 19|    1236|       -4|    1508|       -7|     AS| N309AS|   490|   SEA| SAN|     135|    1050|  12|    36|              2.25|\n",
            "|2014|   11| 19|    1812|       -3|    2352|       -4|     AS| N564AS|    26|   SEA| ORD|     198|    1721|  18|    12|               3.3|\n",
            "+----+-----+---+--------+---------+--------+---------+-------+-------+------+------+----+--------+--------+----+------+------------------+\n",
            "only showing top 10 rows\n",
            "\n"
          ]
        }
      ]
    },
    {
      "cell_type": "code",
      "source": [
        "flights.describe().show()"
      ],
      "metadata": {
        "colab": {
          "base_uri": "https://localhost:8080/"
        },
        "id": "_OH77s_Lnt00",
        "outputId": "50a34b67-5ce5-4e49-de3a-b3d63dc11d14"
      },
      "execution_count": null,
      "outputs": [
        {
          "output_type": "stream",
          "name": "stdout",
          "text": [
            "+-------+------+------------------+-----------------+------------------+------------------+------------------+------------------+-------+-------+-----------------+------+-----+------------------+-----------------+------------------+-----------------+------------------+\n",
            "|summary|  year|             month|              day|          dep_time|         dep_delay|          arr_time|         arr_delay|carrier|tailnum|           flight|origin| dest|          air_time|         distance|              hour|           minute|      duration_hrs|\n",
            "+-------+------+------------------+-----------------+------------------+------------------+------------------+------------------+-------+-------+-----------------+------+-----+------------------+-----------------+------------------+-----------------+------------------+\n",
            "|  count| 10000|             10000|            10000|             10000|             10000|             10000|             10000|  10000|  10000|            10000| 10000|10000|             10000|            10000|             10000|            10000|              9925|\n",
            "|   mean|2014.0|            6.6438|          15.7009|1277.1158561093248| 6.068629421221865|1477.7236802413272|2.2530982367758186|   NULL|   NULL|        1369.1011|  NULL| NULL|152.88423173803525|        1208.1516|12.465434083601286|30.57244774919614| 2.548070528967267|\n",
            "| stddev|   0.0|3.3191600205962097|8.895142019392079| 524.1142951055886|28.808608062751805| 526.5936522261665|31.074918600451877|   NULL|   NULL|1498.714573831908|  NULL| NULL|  72.8656286392139|656.8599023464376| 5.246262953748826|17.98533264217002|1.2144271439868943|\n",
            "|    min|  2014|                 1|                1|                 1|                -1|                 1|                -1|     AA| D942DN|                2|   PDX|  ABQ|               100|               93|                 0|                0|0.3333333333333333|\n",
            "|    max|  2014|                12|               31|                NA|                NA|                NA|                NA|     WN|     NA|             6527|   SEA|  TUS|                NA|             2724|                NA|               NA| 6.816666666666666|\n",
            "+-------+------+------------------+-----------------+------------------+------------------+------------------+------------------+-------+-------+-----------------+------+-----+------------------+-----------------+------------------+-----------------+------------------+\n",
            "\n"
          ]
        }
      ]
    },
    {
      "cell_type": "code",
      "source": [
        "#Filter flights with a SQL\n",
        "long_flights1 = flights.filter('distance>1000')\n",
        "long_flights1.show(10)"
      ],
      "metadata": {
        "colab": {
          "base_uri": "https://localhost:8080/"
        },
        "id": "a_HxSyJNnyeM",
        "outputId": "dfc5d242-29e4-422f-dee6-eb08505e9f65"
      },
      "execution_count": null,
      "outputs": [
        {
          "output_type": "stream",
          "name": "stdout",
          "text": [
            "+----+-----+---+--------+---------+--------+---------+-------+-------+------+------+----+--------+--------+----+------+-----------------+\n",
            "|year|month|day|dep_time|dep_delay|arr_time|arr_delay|carrier|tailnum|flight|origin|dest|air_time|distance|hour|minute|     duration_hrs|\n",
            "+----+-----+---+--------+---------+--------+---------+-------+-------+------+------+----+--------+--------+----+------+-----------------+\n",
            "|2014|    1| 22|    1040|        5|    1505|        5|     AS| N559AS|   851|   SEA| HNL|     360|    2677|  10|    40|              6.0|\n",
            "|2014|    4| 19|    1236|       -4|    1508|       -7|     AS| N309AS|   490|   SEA| SAN|     135|    1050|  12|    36|             2.25|\n",
            "|2014|   11| 19|    1812|       -3|    2352|       -4|     AS| N564AS|    26|   SEA| ORD|     198|    1721|  18|    12|              3.3|\n",
            "|2014|    8|  3|    1120|        0|    1415|        2|     AS| N305AS|   656|   SEA| PHX|     154|    1107|  11|    20|2.566666666666667|\n",
            "|2014|   11| 12|    2346|       -4|     217|      -28|     AS| N765AS|   121|   SEA| ANC|     183|    1448|  23|    46|             3.05|\n",
            "|2014|    8| 11|    1017|       -3|    1613|       -7|     WN| N8634A|   827|   SEA| MDW|     216|    1733|  10|    17|              3.6|\n",
            "|2014|    1| 13|    2156|       -9|     607|      -15|     AS| N597AS|    24|   SEA| BOS|     290|    2496|  21|    56|4.833333333333333|\n",
            "|2014|    9| 26|     610|       -5|    1523|       65|     US| N127UW|   616|   SEA| PHL|     293|    2378|   6|    10|4.883333333333334|\n",
            "|2014|   12|  4|     954|       -6|    1348|      -17|     HA| N395HA|    29|   SEA| OGG|     333|    2640|   9|    54|             5.55|\n",
            "|2014|    6|  4|    1115|        0|    1346|       -3|     AS| N461AS|   488|   SEA| SAN|     133|    1050|  11|    15|2.216666666666667|\n",
            "+----+-----+---+--------+---------+--------+---------+-------+-------+------+------+----+--------+--------+----+------+-----------------+\n",
            "only showing top 10 rows\n",
            "\n"
          ]
        }
      ]
    },
    {
      "cell_type": "code",
      "source": [
        "#Filter flights with a boolean column\n",
        "long_flights2 = flights.filter(flights.distance >1000)\n",
        "long_flights2.show()"
      ],
      "metadata": {
        "colab": {
          "base_uri": "https://localhost:8080/"
        },
        "id": "Gn9aZ-X4oFTa",
        "outputId": "88ee576c-01b0-4c21-aab9-1fea111997ea"
      },
      "execution_count": null,
      "outputs": [
        {
          "output_type": "stream",
          "name": "stdout",
          "text": [
            "+----+-----+---+--------+---------+--------+---------+-------+-------+------+------+----+--------+--------+----+------+------------------+\n",
            "|year|month|day|dep_time|dep_delay|arr_time|arr_delay|carrier|tailnum|flight|origin|dest|air_time|distance|hour|minute|      duration_hrs|\n",
            "+----+-----+---+--------+---------+--------+---------+-------+-------+------+------+----+--------+--------+----+------+------------------+\n",
            "|2014|    1| 22|    1040|        5|    1505|        5|     AS| N559AS|   851|   SEA| HNL|     360|    2677|  10|    40|               6.0|\n",
            "|2014|    4| 19|    1236|       -4|    1508|       -7|     AS| N309AS|   490|   SEA| SAN|     135|    1050|  12|    36|              2.25|\n",
            "|2014|   11| 19|    1812|       -3|    2352|       -4|     AS| N564AS|    26|   SEA| ORD|     198|    1721|  18|    12|               3.3|\n",
            "|2014|    8|  3|    1120|        0|    1415|        2|     AS| N305AS|   656|   SEA| PHX|     154|    1107|  11|    20| 2.566666666666667|\n",
            "|2014|   11| 12|    2346|       -4|     217|      -28|     AS| N765AS|   121|   SEA| ANC|     183|    1448|  23|    46|              3.05|\n",
            "|2014|    8| 11|    1017|       -3|    1613|       -7|     WN| N8634A|   827|   SEA| MDW|     216|    1733|  10|    17|               3.6|\n",
            "|2014|    1| 13|    2156|       -9|     607|      -15|     AS| N597AS|    24|   SEA| BOS|     290|    2496|  21|    56| 4.833333333333333|\n",
            "|2014|    9| 26|     610|       -5|    1523|       65|     US| N127UW|   616|   SEA| PHL|     293|    2378|   6|    10| 4.883333333333334|\n",
            "|2014|   12|  4|     954|       -6|    1348|      -17|     HA| N395HA|    29|   SEA| OGG|     333|    2640|   9|    54|              5.55|\n",
            "|2014|    6|  4|    1115|        0|    1346|       -3|     AS| N461AS|   488|   SEA| SAN|     133|    1050|  11|    15| 2.216666666666667|\n",
            "|2014|    6| 26|    2054|       -1|    2318|       -6|     B6| N590JB|   907|   SEA| ANC|     179|    1448|  20|    54|2.9833333333333334|\n",
            "|2014|    6|  7|    1823|       -7|    2112|      -28|     AS| N512AS|   815|   SEA| LIH|     335|    2701|  18|    23| 5.583333333333333|\n",
            "|2014|    4| 30|     801|        1|    1757|       90|     AS| N407AS|    18|   SEA| MCO|     342|    2554|   8|     1|               5.7|\n",
            "|2014|   11| 29|     905|      155|    1655|      170|     DL| N824DN|  1598|   SEA| ATL|     229|    2182|   9|     5| 3.816666666666667|\n",
            "|2014|    6|  2|    2222|        7|      55|       15|     AS| N402AS|    99|   SEA| ANC|     190|    1448|  22|    22|3.1666666666666665|\n",
            "|2014|   11| 15|    1034|       -6|    1414|      -26|     AS| N589AS|   794|   SEA| ABQ|     139|    1180|  10|    34| 2.316666666666667|\n",
            "|2014|   10| 20|    1328|       -1|    1949|        4|     UA| N68805|  1212|   SEA| IAH|     228|    1874|  13|    28|               3.8|\n",
            "|2014|   12| 16|    1500|        0|    1906|       19|     US| N662AW|   500|   SEA| PHX|     151|    1107|  15|     0|2.5166666666666666|\n",
            "|2014|   11| 19|    1319|       -6|    1821|      -14|     DL| N309US|  2164|   PDX| MSP|     169|    1426|  13|    19| 2.816666666666667|\n",
            "|2014|    5| 21|     515|        0|     757|        0|     US| N172US|   593|   SEA| PHX|     143|    1107|   5|    15|2.3833333333333333|\n",
            "+----+-----+---+--------+---------+--------+---------+-------+-------+------+------+----+--------+--------+----+------+------------------+\n",
            "only showing top 20 rows\n",
            "\n"
          ]
        }
      ]
    },
    {
      "cell_type": "code",
      "source": [
        "#Select the columns as a string\n",
        "selected1 = flights.select('tailnum','origin','dest')\n",
        "selected1.show()"
      ],
      "metadata": {
        "colab": {
          "base_uri": "https://localhost:8080/"
        },
        "id": "aPu0y1V3oOnN",
        "outputId": "045a5916-9149-4e02-e153-7884fc3000c0"
      },
      "execution_count": null,
      "outputs": [
        {
          "output_type": "stream",
          "name": "stdout",
          "text": [
            "+-------+------+----+\n",
            "|tailnum|origin|dest|\n",
            "+-------+------+----+\n",
            "| N846VA|   SEA| LAX|\n",
            "| N559AS|   SEA| HNL|\n",
            "| N847VA|   SEA| SFO|\n",
            "| N360SW|   PDX| SJC|\n",
            "| N612AS|   SEA| BUR|\n",
            "| N646SW|   PDX| DEN|\n",
            "| N422WN|   PDX| OAK|\n",
            "| N361VA|   SEA| SFO|\n",
            "| N309AS|   SEA| SAN|\n",
            "| N564AS|   SEA| ORD|\n",
            "| N323AS|   SEA| LAX|\n",
            "| N305AS|   SEA| PHX|\n",
            "| N433AS|   SEA| LAS|\n",
            "| N765AS|   SEA| ANC|\n",
            "| N713AS|   SEA| SFO|\n",
            "| N27205|   PDX| SFO|\n",
            "| N626AS|   SEA| SMF|\n",
            "| N8634A|   SEA| MDW|\n",
            "| N597AS|   SEA| BOS|\n",
            "| N215AG|   PDX| BUR|\n",
            "+-------+------+----+\n",
            "only showing top 20 rows\n",
            "\n"
          ]
        }
      ]
    },
    {
      "cell_type": "code",
      "source": [
        "#Select the columns using df.col\n",
        "selected2 = flights.select(flights.tailnum,flights.origin,flights.dest)\n",
        "selected2.show()"
      ],
      "metadata": {
        "colab": {
          "base_uri": "https://localhost:8080/"
        },
        "id": "00VRi1bNofcy",
        "outputId": "6654b833-c44d-4892-811d-f124c4ee574b"
      },
      "execution_count": null,
      "outputs": [
        {
          "output_type": "stream",
          "name": "stdout",
          "text": [
            "+-------+------+----+\n",
            "|tailnum|origin|dest|\n",
            "+-------+------+----+\n",
            "| N846VA|   SEA| LAX|\n",
            "| N559AS|   SEA| HNL|\n",
            "| N847VA|   SEA| SFO|\n",
            "| N360SW|   PDX| SJC|\n",
            "| N612AS|   SEA| BUR|\n",
            "| N646SW|   PDX| DEN|\n",
            "| N422WN|   PDX| OAK|\n",
            "| N361VA|   SEA| SFO|\n",
            "| N309AS|   SEA| SAN|\n",
            "| N564AS|   SEA| ORD|\n",
            "| N323AS|   SEA| LAX|\n",
            "| N305AS|   SEA| PHX|\n",
            "| N433AS|   SEA| LAS|\n",
            "| N765AS|   SEA| ANC|\n",
            "| N713AS|   SEA| SFO|\n",
            "| N27205|   PDX| SFO|\n",
            "| N626AS|   SEA| SMF|\n",
            "| N8634A|   SEA| MDW|\n",
            "| N597AS|   SEA| BOS|\n",
            "| N215AG|   PDX| BUR|\n",
            "+-------+------+----+\n",
            "only showing top 20 rows\n",
            "\n"
          ]
        }
      ]
    },
    {
      "cell_type": "code",
      "source": [
        "selected3 = flights.filter((flights.origin=='SEA') & (flights.dest == 'PDX'))\n",
        "selected3.show()"
      ],
      "metadata": {
        "colab": {
          "base_uri": "https://localhost:8080/"
        },
        "id": "sPTG0XJYoqBX",
        "outputId": "9cd957e0-fc99-4afc-ae40-cf49cc294da8"
      },
      "execution_count": null,
      "outputs": [
        {
          "output_type": "stream",
          "name": "stdout",
          "text": [
            "+----+-----+---+--------+---------+--------+---------+-------+-------+------+------+----+--------+--------+----+------+-------------------+\n",
            "|year|month|day|dep_time|dep_delay|arr_time|arr_delay|carrier|tailnum|flight|origin|dest|air_time|distance|hour|minute|       duration_hrs|\n",
            "+----+-----+---+--------+---------+--------+---------+-------+-------+------+------+----+--------+--------+----+------+-------------------+\n",
            "|2014|   10|  1|    1717|       -8|    1819|        4|     OO| N810SK|  4546|   SEA| PDX|      28|     129|  17|    17| 0.4666666666666667|\n",
            "|2014|    9| 26|    2339|      144|      29|      142|     OO| N822SK|  4612|   SEA| PDX|      29|     129|  23|    39|0.48333333333333334|\n",
            "|2014|    8| 18|    1728|       -2|    1822|        0|     OO| N586SW|  5440|   SEA| PDX|      41|     129|  17|    28| 0.6833333333333333|\n",
            "|2014|    2|  4|    2053|       -7|    2144|       -4|     OO| N223SW|  5433|   SEA| PDX|      29|     129|  20|    53|0.48333333333333334|\n",
            "|2014|    2|  9|    1058|      133|    1158|      145|     OO| N580SW|  5438|   SEA| PDX|      35|     129|  10|    58| 0.5833333333333334|\n",
            "|2014|   12|  6|    2227|       -3|    2304|      -11|     AS| N520AS|   414|   SEA| PDX|      25|     129|  22|    27| 0.4166666666666667|\n",
            "|2014|   10| 15|    1722|       -3|    1816|        1|     OO| N809SK|  4546|   SEA| PDX|      28|     129|  17|    22| 0.4666666666666667|\n",
            "|2014|    3|  3|    1720|       -8|    1810|       -6|     OO| N295SW|  5305|   SEA| PDX|      34|     129|  17|    20| 0.5666666666666667|\n",
            "|2014|    2| 23|    2050|      -10|    2140|       -8|     OO| N221SW|  5433|   SEA| PDX|      34|     129|  20|    50| 0.5666666666666667|\n",
            "|2014|    3| 25|    2050|      -10|    2148|        1|     OO| N294SW|  5433|   SEA| PDX|      34|     129|  20|    50| 0.5666666666666667|\n",
            "|2014|    4| 19|    1842|       -3|    1940|        3|     OO| N581SW|  5424|   SEA| PDX|      35|     129|  18|    42| 0.5833333333333334|\n",
            "|2014|    3|  4|     928|       -7|    1026|        3|     OO| N563SW|  5438|   SEA| PDX|      34|     129|   9|    28| 0.5666666666666667|\n",
            "|2014|    1| 15|    1433|       -6|    1528|        1|     OO| N297SW|  5417|   SEA| PDX|      40|     129|  14|    33| 0.6666666666666666|\n",
            "|2014|    5| 11|    1850|      -10|    1938|      -14|     OO| N564SW|  5424|   SEA| PDX|      35|     129|  18|    50| 0.5833333333333334|\n",
            "|2014|   11| 24|    2227|       -3|    2309|       -6|     AS| N468AS|   414|   SEA| PDX|      30|     129|  22|    27|                0.5|\n",
            "|2014|    2| 22|    1450|       -5|    1544|        1|     OO| N229SW|  5417|   SEA| PDX|      30|     129|  14|    50|                0.5|\n",
            "|2014|    3| 28|     921|       -5|    1023|       10|     OO| N565SW|  5411|   SEA| PDX|      40|     129|   9|    21| 0.6666666666666666|\n",
            "|2014|    3| 25|    1515|      274|    1608|      279|     OO| N580SW|  5325|   SEA| PDX|      36|     129|  15|    15|                0.6|\n",
            "|2014|   12| 28|     652|       -8|     802|        2|     OO| N817SK|  4608|   SEA| PDX|      32|     129|   6|    52| 0.5333333333333333|\n",
            "|2014|    5| 11|    1501|        1|    1550|        0|     OO| N564SW|  5417|   SEA| PDX|      34|     129|  15|     1| 0.5666666666666667|\n",
            "+----+-----+---+--------+---------+--------+---------+-------+-------+------+------+----+--------+--------+----+------+-------------------+\n",
            "only showing top 20 rows\n",
            "\n"
          ]
        }
      ]
    },
    {
      "cell_type": "code",
      "source": [
        "#Create a table of the average speed of each flight both ways.\n",
        "#Calculate average speed by dividing the distance by the air_time (converted to hours).Use the .alias() method name\n",
        "# Define avg_speed\n",
        "avg_speed = flights.withColumn(\"avg_speed\",(flights.distance*60)/flights.air_time)\n",
        "avg_speed.show()"
      ],
      "metadata": {
        "colab": {
          "base_uri": "https://localhost:8080/"
        },
        "id": "aJKWOI5_pJ30",
        "outputId": "7a1b4db0-c980-4a06-e3cd-93920c95a91a"
      },
      "execution_count": null,
      "outputs": [
        {
          "output_type": "stream",
          "name": "stdout",
          "text": [
            "+----+-----+---+--------+---------+--------+---------+-------+-------+------+------+----+--------+--------+----+------+------------------+------------------+\n",
            "|year|month|day|dep_time|dep_delay|arr_time|arr_delay|carrier|tailnum|flight|origin|dest|air_time|distance|hour|minute|      duration_hrs|         avg_speed|\n",
            "+----+-----+---+--------+---------+--------+---------+-------+-------+------+------+----+--------+--------+----+------+------------------+------------------+\n",
            "|2014|   12|  8|     658|       -7|     935|       -5|     VX| N846VA|  1780|   SEA| LAX|     132|     954|   6|    58|               2.2| 433.6363636363636|\n",
            "|2014|    1| 22|    1040|        5|    1505|        5|     AS| N559AS|   851|   SEA| HNL|     360|    2677|  10|    40|               6.0| 446.1666666666667|\n",
            "|2014|    3|  9|    1443|       -2|    1652|        2|     VX| N847VA|   755|   SEA| SFO|     111|     679|  14|    43|              1.85|367.02702702702703|\n",
            "|2014|    4|  9|    1705|       45|    1839|       34|     WN| N360SW|   344|   PDX| SJC|      83|     569|  17|     5|1.3833333333333333|411.32530120481925|\n",
            "|2014|    3|  9|     754|       -1|    1015|        1|     AS| N612AS|   522|   SEA| BUR|     127|     937|   7|    54|2.1166666666666667| 442.6771653543307|\n",
            "|2014|    1| 15|    1037|        7|    1352|        2|     WN| N646SW|    48|   PDX| DEN|     121|     991|  10|    37|2.0166666666666666|491.40495867768595|\n",
            "|2014|    7|  2|     847|       42|    1041|       51|     WN| N422WN|  1520|   PDX| OAK|      90|     543|   8|    47|               1.5|             362.0|\n",
            "|2014|    5| 12|    1655|       -5|    1842|      -18|     VX| N361VA|   755|   SEA| SFO|      98|     679|  16|    55|1.6333333333333333| 415.7142857142857|\n",
            "|2014|    4| 19|    1236|       -4|    1508|       -7|     AS| N309AS|   490|   SEA| SAN|     135|    1050|  12|    36|              2.25| 466.6666666666667|\n",
            "|2014|   11| 19|    1812|       -3|    2352|       -4|     AS| N564AS|    26|   SEA| ORD|     198|    1721|  18|    12|               3.3| 521.5151515151515|\n",
            "|2014|   11|  8|    1653|       -2|    1924|       -1|     AS| N323AS|   448|   SEA| LAX|     130|     954|  16|    53|2.1666666666666665| 440.3076923076923|\n",
            "|2014|    8|  3|    1120|        0|    1415|        2|     AS| N305AS|   656|   SEA| PHX|     154|    1107|  11|    20| 2.566666666666667| 431.2987012987013|\n",
            "|2014|   10| 30|     811|       21|    1038|       29|     AS| N433AS|   608|   SEA| LAS|     127|     867|   8|    11|2.1166666666666667| 409.6062992125984|\n",
            "|2014|   11| 12|    2346|       -4|     217|      -28|     AS| N765AS|   121|   SEA| ANC|     183|    1448|  23|    46|              3.05|474.75409836065575|\n",
            "|2014|   10| 31|    1314|       89|    1544|      111|     AS| N713AS|   306|   SEA| SFO|     129|     679|  13|    14|              2.15| 315.8139534883721|\n",
            "|2014|    1| 29|    2009|        3|    2159|        9|     UA| N27205|  1458|   PDX| SFO|      90|     550|  20|     9|               1.5| 366.6666666666667|\n",
            "|2014|   12| 17|    2015|       50|    2150|       41|     AS| N626AS|   368|   SEA| SMF|      76|     605|  20|    15|1.2666666666666666|477.63157894736844|\n",
            "|2014|    8| 11|    1017|       -3|    1613|       -7|     WN| N8634A|   827|   SEA| MDW|     216|    1733|  10|    17|               3.6| 481.3888888888889|\n",
            "|2014|    1| 13|    2156|       -9|     607|      -15|     AS| N597AS|    24|   SEA| BOS|     290|    2496|  21|    56| 4.833333333333333| 516.4137931034483|\n",
            "|2014|    6|  5|    1733|      -12|    1945|      -10|     OO| N215AG|  3488|   PDX| BUR|     111|     817|  17|    33|              1.85| 441.6216216216216|\n",
            "+----+-----+---+--------+---------+--------+---------+-------+-------+------+------+----+--------+--------+----+------+------------------+------------------+\n",
            "only showing top 20 rows\n",
            "\n"
          ]
        }
      ]
    },
    {
      "cell_type": "code",
      "source": [
        "avg_speed.show(10)"
      ],
      "metadata": {
        "colab": {
          "base_uri": "https://localhost:8080/"
        },
        "id": "06yRopRJrFOn",
        "outputId": "6a03b185-f450-4ca3-b149-99e4aa44983e"
      },
      "execution_count": null,
      "outputs": [
        {
          "output_type": "stream",
          "name": "stdout",
          "text": [
            "+----+-----+---+--------+---------+--------+---------+-------+-------+------+------+----+--------+--------+----+------+------------------+------------------+\n",
            "|year|month|day|dep_time|dep_delay|arr_time|arr_delay|carrier|tailnum|flight|origin|dest|air_time|distance|hour|minute|      duration_hrs|         avg_speed|\n",
            "+----+-----+---+--------+---------+--------+---------+-------+-------+------+------+----+--------+--------+----+------+------------------+------------------+\n",
            "|2014|   12|  8|     658|       -7|     935|       -5|     VX| N846VA|  1780|   SEA| LAX|     132|     954|   6|    58|               2.2| 433.6363636363636|\n",
            "|2014|    1| 22|    1040|        5|    1505|        5|     AS| N559AS|   851|   SEA| HNL|     360|    2677|  10|    40|               6.0| 446.1666666666667|\n",
            "|2014|    3|  9|    1443|       -2|    1652|        2|     VX| N847VA|   755|   SEA| SFO|     111|     679|  14|    43|              1.85|367.02702702702703|\n",
            "|2014|    4|  9|    1705|       45|    1839|       34|     WN| N360SW|   344|   PDX| SJC|      83|     569|  17|     5|1.3833333333333333|411.32530120481925|\n",
            "|2014|    3|  9|     754|       -1|    1015|        1|     AS| N612AS|   522|   SEA| BUR|     127|     937|   7|    54|2.1166666666666667| 442.6771653543307|\n",
            "|2014|    1| 15|    1037|        7|    1352|        2|     WN| N646SW|    48|   PDX| DEN|     121|     991|  10|    37|2.0166666666666666|491.40495867768595|\n",
            "|2014|    7|  2|     847|       42|    1041|       51|     WN| N422WN|  1520|   PDX| OAK|      90|     543|   8|    47|               1.5|             362.0|\n",
            "|2014|    5| 12|    1655|       -5|    1842|      -18|     VX| N361VA|   755|   SEA| SFO|      98|     679|  16|    55|1.6333333333333333| 415.7142857142857|\n",
            "|2014|    4| 19|    1236|       -4|    1508|       -7|     AS| N309AS|   490|   SEA| SAN|     135|    1050|  12|    36|              2.25| 466.6666666666667|\n",
            "|2014|   11| 19|    1812|       -3|    2352|       -4|     AS| N564AS|    26|   SEA| ORD|     198|    1721|  18|    12|               3.3| 521.5151515151515|\n",
            "+----+-----+---+--------+---------+--------+---------+-------+-------+------+------+----+--------+--------+----+------+------------------+------------------+\n",
            "only showing top 10 rows\n",
            "\n"
          ]
        }
      ]
    },
    {
      "cell_type": "code",
      "source": [
        "from pyspark.sql.functions import col, expr\n",
        "avg_speed = flights.select(\"origin\",\"dest\",\"tailnum\",expr(\"distance*60/air_time\").alias(\"avg_speed\"))\n",
        "avg_speed.show()"
      ],
      "metadata": {
        "colab": {
          "base_uri": "https://localhost:8080/"
        },
        "id": "vE5lDc8CtKz8",
        "outputId": "972565c3-e47a-405f-b501-215fce3e868a"
      },
      "execution_count": null,
      "outputs": [
        {
          "output_type": "stream",
          "name": "stdout",
          "text": [
            "+------+----+-------+------------------+\n",
            "|origin|dest|tailnum|         avg_speed|\n",
            "+------+----+-------+------------------+\n",
            "|   SEA| LAX| N846VA| 433.6363636363636|\n",
            "|   SEA| HNL| N559AS| 446.1666666666667|\n",
            "|   SEA| SFO| N847VA|367.02702702702703|\n",
            "|   PDX| SJC| N360SW|411.32530120481925|\n",
            "|   SEA| BUR| N612AS| 442.6771653543307|\n",
            "|   PDX| DEN| N646SW|491.40495867768595|\n",
            "|   PDX| OAK| N422WN|             362.0|\n",
            "|   SEA| SFO| N361VA| 415.7142857142857|\n",
            "|   SEA| SAN| N309AS| 466.6666666666667|\n",
            "|   SEA| ORD| N564AS| 521.5151515151515|\n",
            "|   SEA| LAX| N323AS| 440.3076923076923|\n",
            "|   SEA| PHX| N305AS| 431.2987012987013|\n",
            "|   SEA| LAS| N433AS| 409.6062992125984|\n",
            "|   SEA| ANC| N765AS|474.75409836065575|\n",
            "|   SEA| SFO| N713AS| 315.8139534883721|\n",
            "|   PDX| SFO| N27205| 366.6666666666667|\n",
            "|   SEA| SMF| N626AS|477.63157894736844|\n",
            "|   SEA| MDW| N8634A| 481.3888888888889|\n",
            "|   SEA| BOS| N597AS| 516.4137931034483|\n",
            "|   PDX| BUR| N215AG| 441.6216216216216|\n",
            "+------+----+-------+------------------+\n",
            "only showing top 20 rows\n",
            "\n"
          ]
        }
      ]
    },
    {
      "cell_type": "code",
      "source": [
        "#Approach 2\n",
        "avg_speed = flights.select(flights.origin, flights.dest, flights.tailnum, (flights.distance*60/flights.air_time).alias(\"avg_speed\"))"
      ],
      "metadata": {
        "id": "nweNrHA9rGkI"
      },
      "execution_count": null,
      "outputs": []
    },
    {
      "cell_type": "code",
      "source": [
        "avg_speed.show()"
      ],
      "metadata": {
        "colab": {
          "base_uri": "https://localhost:8080/"
        },
        "id": "Q2te1mLerMIL",
        "outputId": "2ddf21c3-b40c-42bb-b607-9aab85341793"
      },
      "execution_count": null,
      "outputs": [
        {
          "output_type": "stream",
          "name": "stdout",
          "text": [
            "+------+----+-------+------------------+\n",
            "|origin|dest|tailnum|         avg_speed|\n",
            "+------+----+-------+------------------+\n",
            "|   SEA| LAX| N846VA| 433.6363636363636|\n",
            "|   SEA| HNL| N559AS| 446.1666666666667|\n",
            "|   SEA| SFO| N847VA|367.02702702702703|\n",
            "|   PDX| SJC| N360SW|411.32530120481925|\n",
            "|   SEA| BUR| N612AS| 442.6771653543307|\n",
            "|   PDX| DEN| N646SW|491.40495867768595|\n",
            "|   PDX| OAK| N422WN|             362.0|\n",
            "|   SEA| SFO| N361VA| 415.7142857142857|\n",
            "|   SEA| SAN| N309AS| 466.6666666666667|\n",
            "|   SEA| ORD| N564AS| 521.5151515151515|\n",
            "|   SEA| LAX| N323AS| 440.3076923076923|\n",
            "|   SEA| PHX| N305AS| 431.2987012987013|\n",
            "|   SEA| LAS| N433AS| 409.6062992125984|\n",
            "|   SEA| ANC| N765AS|474.75409836065575|\n",
            "|   SEA| SFO| N713AS| 315.8139534883721|\n",
            "|   PDX| SFO| N27205| 366.6666666666667|\n",
            "|   SEA| SMF| N626AS|477.63157894736844|\n",
            "|   SEA| MDW| N8634A| 481.3888888888889|\n",
            "|   SEA| BOS| N597AS| 516.4137931034483|\n",
            "|   PDX| BUR| N215AG| 441.6216216216216|\n",
            "+------+----+-------+------------------+\n",
            "only showing top 20 rows\n",
            "\n"
          ]
        }
      ]
    },
    {
      "cell_type": "code",
      "source": [
        "speed_2 =flights.selectExpr('origin','dest','tailnum','distance/(air_time/60) as avg_speed')\n",
        "speed_2.show()"
      ],
      "metadata": {
        "colab": {
          "base_uri": "https://localhost:8080/"
        },
        "id": "RQIwys5Jrnau",
        "outputId": "c71339b4-54eb-4f13-83ee-fed806500a3f"
      },
      "execution_count": null,
      "outputs": [
        {
          "output_type": "stream",
          "name": "stdout",
          "text": [
            "+------+----+-------+------------------+\n",
            "|origin|dest|tailnum|         avg_speed|\n",
            "+------+----+-------+------------------+\n",
            "|   SEA| LAX| N846VA| 433.6363636363636|\n",
            "|   SEA| HNL| N559AS| 446.1666666666667|\n",
            "|   SEA| SFO| N847VA|367.02702702702703|\n",
            "|   PDX| SJC| N360SW| 411.3253012048193|\n",
            "|   SEA| BUR| N612AS| 442.6771653543307|\n",
            "|   PDX| DEN| N646SW|491.40495867768595|\n",
            "|   PDX| OAK| N422WN|             362.0|\n",
            "|   SEA| SFO| N361VA| 415.7142857142857|\n",
            "|   SEA| SAN| N309AS| 466.6666666666667|\n",
            "|   SEA| ORD| N564AS| 521.5151515151515|\n",
            "|   SEA| LAX| N323AS| 440.3076923076923|\n",
            "|   SEA| PHX| N305AS|431.29870129870125|\n",
            "|   SEA| LAS| N433AS| 409.6062992125984|\n",
            "|   SEA| ANC| N765AS|474.75409836065575|\n",
            "|   SEA| SFO| N713AS| 315.8139534883721|\n",
            "|   PDX| SFO| N27205| 366.6666666666667|\n",
            "|   SEA| SMF| N626AS|477.63157894736844|\n",
            "|   SEA| MDW| N8634A|481.38888888888886|\n",
            "|   SEA| BOS| N597AS| 516.4137931034483|\n",
            "|   PDX| BUR| N215AG| 441.6216216216216|\n",
            "+------+----+-------+------------------+\n",
            "only showing top 20 rows\n",
            "\n"
          ]
        }
      ]
    },
    {
      "cell_type": "code",
      "source": [
        "#arr_time: string and distance: string, so to find min() and max() we need to convert this float\n",
        "flights = flights.withColumn(\"distance\",flights.distance.cast('float'))\n",
        "flights = flights.withColumn(\"air_time\",flights.air_time.cast('float'))\n",
        "\n",
        "flights.describe('distance','air_time').show()"
      ],
      "metadata": {
        "colab": {
          "base_uri": "https://localhost:8080/"
        },
        "id": "-Zy_zoxdrwFZ",
        "outputId": "9d3d2831-f0ed-4977-fe56-1c7ef9511819"
      },
      "execution_count": null,
      "outputs": [
        {
          "output_type": "stream",
          "name": "stdout",
          "text": [
            "+-------+-----------------+------------------+\n",
            "|summary|         distance|          air_time|\n",
            "+-------+-----------------+------------------+\n",
            "|  count|            10000|              9925|\n",
            "|   mean|        1208.1516|152.88423173803525|\n",
            "| stddev|656.8599023464376|  72.8656286392139|\n",
            "|    min|             93.0|              20.0|\n",
            "|    max|           2724.0|             409.0|\n",
            "+-------+-----------------+------------------+\n",
            "\n"
          ]
        }
      ]
    },
    {
      "cell_type": "code",
      "source": [
        "#Find the length of the shortest (in terms of distance) flight that left PDX\n",
        "flights.filter(flights.origin=='PDX').groupBy(\"origin\").min(\"distance\").show()"
      ],
      "metadata": {
        "colab": {
          "base_uri": "https://localhost:8080/"
        },
        "id": "Q4C5YHpQuH8k",
        "outputId": "2e41e4e3-fa0a-4aba-9460-ece9bcd5a768"
      },
      "execution_count": null,
      "outputs": [
        {
          "output_type": "stream",
          "name": "stdout",
          "text": [
            "+------+-------------+\n",
            "|origin|min(distance)|\n",
            "+------+-------------+\n",
            "|   PDX|        106.0|\n",
            "+------+-------------+\n",
            "\n"
          ]
        }
      ]
    },
    {
      "cell_type": "code",
      "source": [
        "#Find the length of the longest (in terms of time) flight that left SEA\n",
        "flights.filter(flights.origin=='SEA').groupBy().max(\"air_time\").show()"
      ],
      "metadata": {
        "colab": {
          "base_uri": "https://localhost:8080/"
        },
        "id": "t_AD8EIzux60",
        "outputId": "9047e71b-db0b-4280-ef98-8580f98ca7f3"
      },
      "execution_count": null,
      "outputs": [
        {
          "output_type": "stream",
          "name": "stdout",
          "text": [
            "+-------------+\n",
            "|max(air_time)|\n",
            "+-------------+\n",
            "|        409.0|\n",
            "+-------------+\n",
            "\n"
          ]
        }
      ]
    },
    {
      "cell_type": "code",
      "source": [
        "#get the average air time of Delta Airlines flights  that left SEA.\n",
        "flights.filter((flights.carrier == \"DL\") & (flights.origin == 'SEA')).groupBy().avg(\"air_time\").show()"
      ],
      "metadata": {
        "colab": {
          "base_uri": "https://localhost:8080/"
        },
        "id": "txUVbQWbvOZU",
        "outputId": "520b0e69-aa61-4aa8-c602-4766e003469f"
      },
      "execution_count": null,
      "outputs": [
        {
          "output_type": "stream",
          "name": "stdout",
          "text": [
            "+------------------+\n",
            "|     avg(air_time)|\n",
            "+------------------+\n",
            "|188.20689655172413|\n",
            "+------------------+\n",
            "\n"
          ]
        }
      ]
    },
    {
      "cell_type": "code",
      "source": [
        "#get the total number of hours all planes in this dataset spent in the air by creating a column called duration_hrs\n",
        "flights.withColumn(\"duration_hrs\",flights.air_time/60).groupBy().sum('duration_hrs').show()"
      ],
      "metadata": {
        "colab": {
          "base_uri": "https://localhost:8080/"
        },
        "id": "KYAFTAXEvkme",
        "outputId": "5b23eecf-986e-4d78-895e-f2fdd0a8594b"
      },
      "execution_count": null,
      "outputs": [
        {
          "output_type": "stream",
          "name": "stdout",
          "text": [
            "+------------------+\n",
            "| sum(duration_hrs)|\n",
            "+------------------+\n",
            "|25289.600000000126|\n",
            "+------------------+\n",
            "\n"
          ]
        }
      ]
    },
    {
      "cell_type": "code",
      "source": [
        "#Group by tailnum column\n",
        "by_plane = flights.groupBy(\"tailnum\")\n"
      ],
      "metadata": {
        "colab": {
          "base_uri": "https://localhost:8080/"
        },
        "id": "wroLLuJhwBk5",
        "outputId": "608b6794-1539-47f5-a055-f18a3728387f"
      },
      "execution_count": null,
      "outputs": [
        {
          "output_type": "stream",
          "name": "stdout",
          "text": [
            "GroupedData[grouping expressions: [tailnum], value: [year: int, month: int ... 15 more fields], type: GroupBy]\n"
          ]
        }
      ]
    },
    {
      "cell_type": "code",
      "source": [
        "#Use the .count() method with no arguments to count the number of flights each plane made\n",
        "by_plane.count().show()"
      ],
      "metadata": {
        "colab": {
          "base_uri": "https://localhost:8080/"
        },
        "id": "8LExkY-TwJm9",
        "outputId": "1af2db89-cf6c-4832-d47c-8c09375d945c"
      },
      "execution_count": null,
      "outputs": [
        {
          "output_type": "stream",
          "name": "stdout",
          "text": [
            "+-------+-----+\n",
            "|tailnum|count|\n",
            "+-------+-----+\n",
            "| N442AS|   38|\n",
            "| N102UW|    2|\n",
            "| N36472|    4|\n",
            "| N38451|    4|\n",
            "| N73283|    4|\n",
            "| N513UA|    2|\n",
            "| N954WN|    5|\n",
            "| N388DA|    3|\n",
            "| N567AA|    1|\n",
            "| N516UA|    2|\n",
            "| N927DN|    1|\n",
            "| N8322X|    1|\n",
            "| N466SW|    1|\n",
            "|  N6700|    1|\n",
            "| N607AS|   45|\n",
            "| N622SW|    4|\n",
            "| N584AS|   31|\n",
            "| N914WN|    4|\n",
            "| N654AW|    2|\n",
            "| N336NW|    1|\n",
            "+-------+-----+\n",
            "only showing top 20 rows\n",
            "\n"
          ]
        }
      ]
    },
    {
      "cell_type": "code",
      "source": [
        "#group by origin column\n",
        "by_origin = flights.groupBy(\"origin\")\n",
        "by_origin.count().show()"
      ],
      "metadata": {
        "colab": {
          "base_uri": "https://localhost:8080/"
        },
        "id": "h9n6MUKswZGj",
        "outputId": "1cf2d6e6-3cbc-448a-ce02-1cd051f7f63c"
      },
      "execution_count": null,
      "outputs": [
        {
          "output_type": "stream",
          "name": "stdout",
          "text": [
            "+------+-----+\n",
            "|origin|count|\n",
            "+------+-----+\n",
            "|   SEA| 6754|\n",
            "|   PDX| 3246|\n",
            "+------+-----+\n",
            "\n"
          ]
        }
      ]
    },
    {
      "cell_type": "code",
      "source": [
        "#Find the .avg() of the air_time column to find average duration of flights from PDX and SEA\n",
        "by_origin.avg('air_time').show()\n"
      ],
      "metadata": {
        "colab": {
          "base_uri": "https://localhost:8080/"
        },
        "id": "Tm2a9T_HwhKC",
        "outputId": "ab07be82-0faf-45c4-a069-9ebfe5dceeba"
      },
      "execution_count": null,
      "outputs": [
        {
          "output_type": "stream",
          "name": "stdout",
          "text": [
            "+------+------------------+\n",
            "|origin|     avg(air_time)|\n",
            "+------+------------------+\n",
            "|   SEA| 160.4361496051259|\n",
            "|   PDX|137.11543248288737|\n",
            "+------+------------------+\n",
            "\n"
          ]
        }
      ]
    },
    {
      "cell_type": "code",
      "source": [
        "# Import pyspark.sql.functions as F\n",
        "import pyspark.sql.functions as F\n",
        "\n",
        "#convert to dep_delay to numeric column\n",
        "flights = flights.withColumn('dep_delay', flights.dep_delay.cast('float'))\n",
        "\n",
        "# Group by month and dest\n",
        "by_month_dest = flights.groupBy('month', 'dest')"
      ],
      "metadata": {
        "id": "ILnCOwGTwni8"
      },
      "execution_count": null,
      "outputs": []
    },
    {
      "cell_type": "code",
      "source": [
        "# Average departure delay by month and destination\n",
        "by_month_dest.avg('dep_delay').show()"
      ],
      "metadata": {
        "colab": {
          "base_uri": "https://localhost:8080/"
        },
        "id": "EOhLaS7EwwmS",
        "outputId": "26f0b41e-01c3-48a3-e2f8-59866d2c44c3"
      },
      "execution_count": null,
      "outputs": [
        {
          "output_type": "stream",
          "name": "stdout",
          "text": [
            "+-----+----+-------------------+\n",
            "|month|dest|     avg(dep_delay)|\n",
            "+-----+----+-------------------+\n",
            "|    4| PHX| 1.6833333333333333|\n",
            "|    1| RDM|             -1.625|\n",
            "|    5| ONT| 3.5555555555555554|\n",
            "|    7| OMA|               -6.5|\n",
            "|    8| MDW|               7.45|\n",
            "|    6| DEN|  5.418181818181818|\n",
            "|    5| IAD|               -4.0|\n",
            "|   12| COS|               -1.0|\n",
            "|   11| ANC|  7.529411764705882|\n",
            "|    5| AUS|              -0.75|\n",
            "|    5| COS| 11.666666666666666|\n",
            "|    2| PSP|                0.6|\n",
            "|    4| ORD|0.14285714285714285|\n",
            "|   10| DFW| 18.176470588235293|\n",
            "|   10| DCA|               -1.5|\n",
            "|    8| JNU|             18.125|\n",
            "|   11| KOA|               -1.0|\n",
            "|   10| OMA|-0.6666666666666666|\n",
            "|    6| ONT|              9.625|\n",
            "|    3| MSP|                3.2|\n",
            "+-----+----+-------------------+\n",
            "only showing top 20 rows\n",
            "\n"
          ]
        }
      ]
    },
    {
      "cell_type": "code",
      "source": [
        "airports.show()"
      ],
      "metadata": {
        "colab": {
          "base_uri": "https://localhost:8080/"
        },
        "id": "yv44Dkt7wyqg",
        "outputId": "64764bc1-d25a-405b-e141-1754a8c131dd"
      },
      "execution_count": null,
      "outputs": [
        {
          "output_type": "stream",
          "name": "stdout",
          "text": [
            "+---+--------------------+----------------+-----------------+----+---+---+\n",
            "|faa|                name|             lat|              lon| alt| tz|dst|\n",
            "+---+--------------------+----------------+-----------------+----+---+---+\n",
            "|04G|   Lansdowne Airport|      41.1304722|      -80.6195833|1044| -5|  A|\n",
            "|06A|Moton Field Munic...|      32.4605722|      -85.6800278| 264| -5|  A|\n",
            "|06C| Schaumburg Regional|      41.9893408|      -88.1012428| 801| -6|  A|\n",
            "|06N|     Randall Airport|       41.431912|      -74.3915611| 523| -5|  A|\n",
            "|09J|Jekyll Island Air...|      31.0744722|      -81.4277778|  11| -4|  A|\n",
            "|0A9|Elizabethton Muni...|      36.3712222|      -82.1734167|1593| -4|  A|\n",
            "|0G6|Williams County A...|      41.4673056|      -84.5067778| 730| -5|  A|\n",
            "|0G7|Finger Lakes Regi...|      42.8835647|      -76.7812318| 492| -5|  A|\n",
            "|0P2|Shoestring Aviati...|      39.7948244|      -76.6471914|1000| -5|  U|\n",
            "|0S9|Jefferson County ...|      48.0538086|     -122.8106436| 108| -8|  A|\n",
            "|0W3|Harford County Ai...|      39.5668378|      -76.2024028| 409| -5|  A|\n",
            "|10C|  Galt Field Airport|      42.4028889|      -88.3751111| 875| -6|  U|\n",
            "|17G|Port Bucyrus-Craw...|      40.7815556|      -82.9748056|1003| -5|  A|\n",
            "|19A|Jackson County Ai...|      34.1758638|      -83.5615972| 951| -4|  U|\n",
            "|1A3|Martin Campbell F...|      35.0158056|      -84.3468333|1789| -4|  A|\n",
            "|1B9| Mansfield Municipal|      42.0001331|      -71.1967714| 122| -5|  A|\n",
            "|1C9|Frazier Lake Airpark|54.0133333333333|-124.768333333333| 152| -8|  A|\n",
            "|1CS|Clow Internationa...|      41.6959744|      -88.1292306| 670| -6|  U|\n",
            "|1G3|  Kent State Airport|      41.1513889|      -81.4151111|1134| -4|  A|\n",
            "|1OH|     Fortman Airport|      40.5553253|      -84.3866186| 885| -5|  U|\n",
            "+---+--------------------+----------------+-----------------+----+---+---+\n",
            "only showing top 20 rows\n",
            "\n"
          ]
        }
      ]
    },
    {
      "cell_type": "code",
      "source": [
        "# Rename the faa column\n",
        "airports = airports.withColumnRenamed('faa','dest')"
      ],
      "metadata": {
        "id": "A0A9bDKuyB3p"
      },
      "execution_count": null,
      "outputs": []
    },
    {
      "cell_type": "code",
      "source": [
        "#Join the flights and airports dataframes\n",
        "flights_with_airports = flights.join(airports,on=\"dest\",how='leftouter')"
      ],
      "metadata": {
        "id": "3oabHMW7yI71"
      },
      "execution_count": null,
      "outputs": []
    },
    {
      "cell_type": "code",
      "source": [
        "flights_with_airports.show()"
      ],
      "metadata": {
        "colab": {
          "base_uri": "https://localhost:8080/"
        },
        "id": "MACSdfNxyVWL",
        "outputId": "5d048b3a-f583-40ea-9e66-ae1e4ba21316"
      },
      "execution_count": null,
      "outputs": [
        {
          "output_type": "stream",
          "name": "stdout",
          "text": [
            "+----+----+-----+---+--------+---------+--------+---------+-------+-------+------+------+--------+--------+----+------+------------------+--------------------+---------+-----------+----+---+---+\n",
            "|dest|year|month|day|dep_time|dep_delay|arr_time|arr_delay|carrier|tailnum|flight|origin|air_time|distance|hour|minute|      duration_hrs|                name|      lat|        lon| alt| tz|dst|\n",
            "+----+----+-----+---+--------+---------+--------+---------+-------+-------+------+------+--------+--------+----+------+------------------+--------------------+---------+-----------+----+---+---+\n",
            "| LAX|2014|   12|  8|     658|     -7.0|     935|       -5|     VX| N846VA|  1780|   SEA|   132.0|   954.0|   6|    58|               2.2|    Los Angeles Intl|33.942536|-118.408075| 126| -8|  A|\n",
            "| HNL|2014|    1| 22|    1040|      5.0|    1505|        5|     AS| N559AS|   851|   SEA|   360.0|  2677.0|  10|    40|               6.0|       Honolulu Intl|21.318681|-157.922428|  13|-10|  N|\n",
            "| SFO|2014|    3|  9|    1443|     -2.0|    1652|        2|     VX| N847VA|   755|   SEA|   111.0|   679.0|  14|    43|              1.85|  San Francisco Intl|37.618972|-122.374889|  13| -8|  A|\n",
            "| SJC|2014|    4|  9|    1705|     45.0|    1839|       34|     WN| N360SW|   344|   PDX|    83.0|   569.0|  17|     5|1.3833333333333333|Norman Y Mineta S...|  37.3626|-121.929022|  62| -8|  A|\n",
            "| BUR|2014|    3|  9|     754|     -1.0|    1015|        1|     AS| N612AS|   522|   SEA|   127.0|   937.0|   7|    54|2.1166666666666667|            Bob Hope|34.200667|-118.358667| 778| -8|  A|\n",
            "| DEN|2014|    1| 15|    1037|      7.0|    1352|        2|     WN| N646SW|    48|   PDX|   121.0|   991.0|  10|    37|2.0166666666666666|         Denver Intl|39.861656|-104.673178|5431| -7|  A|\n",
            "| OAK|2014|    7|  2|     847|     42.0|    1041|       51|     WN| N422WN|  1520|   PDX|    90.0|   543.0|   8|    47|               1.5|Metropolitan Oakl...|37.721278|-122.220722|   9| -8|  A|\n",
            "| SFO|2014|    5| 12|    1655|     -5.0|    1842|      -18|     VX| N361VA|   755|   SEA|    98.0|   679.0|  16|    55|1.6333333333333333|  San Francisco Intl|37.618972|-122.374889|  13| -8|  A|\n",
            "| SAN|2014|    4| 19|    1236|     -4.0|    1508|       -7|     AS| N309AS|   490|   SEA|   135.0|  1050.0|  12|    36|              2.25|      San Diego Intl|32.733556|-117.189667|  17| -8|  A|\n",
            "| ORD|2014|   11| 19|    1812|     -3.0|    2352|       -4|     AS| N564AS|    26|   SEA|   198.0|  1721.0|  18|    12|               3.3|  Chicago Ohare Intl|41.978603| -87.904842| 668| -6|  A|\n",
            "| LAX|2014|   11|  8|    1653|     -2.0|    1924|       -1|     AS| N323AS|   448|   SEA|   130.0|   954.0|  16|    53|2.1666666666666665|    Los Angeles Intl|33.942536|-118.408075| 126| -8|  A|\n",
            "| PHX|2014|    8|  3|    1120|      0.0|    1415|        2|     AS| N305AS|   656|   SEA|   154.0|  1107.0|  11|    20| 2.566666666666667|Phoenix Sky Harbo...|33.434278|-112.011583|1135| -7|  N|\n",
            "| LAS|2014|   10| 30|     811|     21.0|    1038|       29|     AS| N433AS|   608|   SEA|   127.0|   867.0|   8|    11|2.1166666666666667|      Mc Carran Intl|36.080056| -115.15225|2141| -8|  A|\n",
            "| ANC|2014|   11| 12|    2346|     -4.0|     217|      -28|     AS| N765AS|   121|   SEA|   183.0|  1448.0|  23|    46|              3.05|Ted Stevens Ancho...|61.174361|-149.996361| 152| -9|  A|\n",
            "| SFO|2014|   10| 31|    1314|     89.0|    1544|      111|     AS| N713AS|   306|   SEA|   129.0|   679.0|  13|    14|              2.15|  San Francisco Intl|37.618972|-122.374889|  13| -8|  A|\n",
            "| SFO|2014|    1| 29|    2009|      3.0|    2159|        9|     UA| N27205|  1458|   PDX|    90.0|   550.0|  20|     9|               1.5|  San Francisco Intl|37.618972|-122.374889|  13| -8|  A|\n",
            "| SMF|2014|   12| 17|    2015|     50.0|    2150|       41|     AS| N626AS|   368|   SEA|    76.0|   605.0|  20|    15|1.2666666666666666|     Sacramento Intl|38.695417|-121.590778|  27| -8|  A|\n",
            "| MDW|2014|    8| 11|    1017|     -3.0|    1613|       -7|     WN| N8634A|   827|   SEA|   216.0|  1733.0|  10|    17|               3.6| Chicago Midway Intl|41.785972| -87.752417| 620| -6|  A|\n",
            "| BOS|2014|    1| 13|    2156|     -9.0|     607|      -15|     AS| N597AS|    24|   SEA|   290.0|  2496.0|  21|    56| 4.833333333333333|General Edward La...|42.364347| -71.005181|  19| -5|  A|\n",
            "| BUR|2014|    6|  5|    1733|    -12.0|    1945|      -10|     OO| N215AG|  3488|   PDX|   111.0|   817.0|  17|    33|              1.85|            Bob Hope|34.200667|-118.358667| 778| -8|  A|\n",
            "+----+----+-----+---+--------+---------+--------+---------+-------+-------+------+------+--------+--------+----+------+------------------+--------------------+---------+-----------+----+---+---+\n",
            "only showing top 20 rows\n",
            "\n"
          ]
        }
      ]
    },
    {
      "cell_type": "code",
      "source": [
        "planes = spark.read.csv(\"/content/planes.csv\",header=True,inferSchema=True)"
      ],
      "metadata": {
        "id": "mA5im8VlyXlq"
      },
      "execution_count": null,
      "outputs": []
    },
    {
      "cell_type": "code",
      "source": [
        "planes.show(10)"
      ],
      "metadata": {
        "colab": {
          "base_uri": "https://localhost:8080/"
        },
        "id": "VFU0C3duykE5",
        "outputId": "801069c1-dbf6-4989-964b-f2597f861e29"
      },
      "execution_count": null,
      "outputs": [
        {
          "output_type": "stream",
          "name": "stdout",
          "text": [
            "+-------+----+--------------------+----------------+--------+-------+-----+-----+---------+\n",
            "|tailnum|year|                type|    manufacturer|   model|engines|seats|speed|   engine|\n",
            "+-------+----+--------------------+----------------+--------+-------+-----+-----+---------+\n",
            "| N102UW|1998|Fixed wing multi ...|AIRBUS INDUSTRIE|A320-214|      2|  182|   NA|Turbo-fan|\n",
            "| N103US|1999|Fixed wing multi ...|AIRBUS INDUSTRIE|A320-214|      2|  182|   NA|Turbo-fan|\n",
            "| N104UW|1999|Fixed wing multi ...|AIRBUS INDUSTRIE|A320-214|      2|  182|   NA|Turbo-fan|\n",
            "| N105UW|1999|Fixed wing multi ...|AIRBUS INDUSTRIE|A320-214|      2|  182|   NA|Turbo-fan|\n",
            "| N107US|1999|Fixed wing multi ...|AIRBUS INDUSTRIE|A320-214|      2|  182|   NA|Turbo-fan|\n",
            "| N108UW|1999|Fixed wing multi ...|AIRBUS INDUSTRIE|A320-214|      2|  182|   NA|Turbo-fan|\n",
            "| N109UW|1999|Fixed wing multi ...|AIRBUS INDUSTRIE|A320-214|      2|  182|   NA|Turbo-fan|\n",
            "| N110UW|1999|Fixed wing multi ...|AIRBUS INDUSTRIE|A320-214|      2|  182|   NA|Turbo-fan|\n",
            "| N111US|1999|Fixed wing multi ...|AIRBUS INDUSTRIE|A320-214|      2|  182|   NA|Turbo-fan|\n",
            "| N11206|2000|Fixed wing multi ...|          BOEING| 737-824|      2|  149|   NA|Turbo-fan|\n",
            "+-------+----+--------------------+----------------+--------+-------+-----+-----+---------+\n",
            "only showing top 10 rows\n",
            "\n"
          ]
        }
      ]
    },
    {
      "cell_type": "code",
      "source": [
        "# Rename year column on panes to avoid duplicate column name\n",
        "planes = planes.withColumnRenamed('year','plane_year')"
      ],
      "metadata": {
        "id": "aKjNsweGylSv"
      },
      "execution_count": null,
      "outputs": []
    },
    {
      "cell_type": "code",
      "source": [
        "#join the flights and plane table use key as tailnum column\n",
        "model_data = flights_with_airports.join(planes,on='tailnum',how='leftouter')\n",
        "model_data.show(10)"
      ],
      "metadata": {
        "colab": {
          "base_uri": "https://localhost:8080/"
        },
        "id": "xPNXjJYpytPk",
        "outputId": "c1c5c999-6c5c-498c-bacd-bd1a91fc1324"
      },
      "execution_count": null,
      "outputs": [
        {
          "output_type": "stream",
          "name": "stdout",
          "text": [
            "+-------+----+----+-----+---+--------+---------+--------+---------+-------+------+------+--------+--------+----+------+------------------+--------------------+---------+-----------+----+---+---+----------+--------------------+------------+--------+-------+-----+-----+---------+\n",
            "|tailnum|dest|year|month|day|dep_time|dep_delay|arr_time|arr_delay|carrier|flight|origin|air_time|distance|hour|minute|      duration_hrs|                name|      lat|        lon| alt| tz|dst|plane_year|                type|manufacturer|   model|engines|seats|speed|   engine|\n",
            "+-------+----+----+-----+---+--------+---------+--------+---------+-------+------+------+--------+--------+----+------+------------------+--------------------+---------+-----------+----+---+---+----------+--------------------+------------+--------+-------+-----+-----+---------+\n",
            "| N846VA| LAX|2014|   12|  8|     658|     -7.0|     935|       -5|     VX|  1780|   SEA|   132.0|   954.0|   6|    58|               2.2|    Los Angeles Intl|33.942536|-118.408075| 126| -8|  A|      2011|Fixed wing multi ...|      AIRBUS|A320-214|      2|  182|   NA|Turbo-fan|\n",
            "| N559AS| HNL|2014|    1| 22|    1040|      5.0|    1505|        5|     AS|   851|   SEA|   360.0|  2677.0|  10|    40|               6.0|       Honolulu Intl|21.318681|-157.922428|  13|-10|  N|      2006|Fixed wing multi ...|      BOEING| 737-890|      2|  149|   NA|Turbo-fan|\n",
            "| N847VA| SFO|2014|    3|  9|    1443|     -2.0|    1652|        2|     VX|   755|   SEA|   111.0|   679.0|  14|    43|              1.85|  San Francisco Intl|37.618972|-122.374889|  13| -8|  A|      2011|Fixed wing multi ...|      AIRBUS|A320-214|      2|  182|   NA|Turbo-fan|\n",
            "| N360SW| SJC|2014|    4|  9|    1705|     45.0|    1839|       34|     WN|   344|   PDX|    83.0|   569.0|  17|     5|1.3833333333333333|Norman Y Mineta S...|  37.3626|-121.929022|  62| -8|  A|      1992|Fixed wing multi ...|      BOEING| 737-3H4|      2|  149|   NA|Turbo-fan|\n",
            "| N612AS| BUR|2014|    3|  9|     754|     -1.0|    1015|        1|     AS|   522|   SEA|   127.0|   937.0|   7|    54|2.1166666666666667|            Bob Hope|34.200667|-118.358667| 778| -8|  A|      1999|Fixed wing multi ...|      BOEING| 737-790|      2|  151|   NA|Turbo-jet|\n",
            "| N646SW| DEN|2014|    1| 15|    1037|      7.0|    1352|        2|     WN|    48|   PDX|   121.0|   991.0|  10|    37|2.0166666666666666|         Denver Intl|39.861656|-104.673178|5431| -7|  A|      1997|Fixed wing multi ...|      BOEING| 737-3H4|      2|  149|   NA|Turbo-fan|\n",
            "| N422WN| OAK|2014|    7|  2|     847|     42.0|    1041|       51|     WN|  1520|   PDX|    90.0|   543.0|   8|    47|               1.5|Metropolitan Oakl...|37.721278|-122.220722|   9| -8|  A|      2002|Fixed wing multi ...|      BOEING| 737-7H4|      2|  140|   NA|Turbo-fan|\n",
            "| N361VA| SFO|2014|    5| 12|    1655|     -5.0|    1842|      -18|     VX|   755|   SEA|    98.0|   679.0|  16|    55|1.6333333333333333|  San Francisco Intl|37.618972|-122.374889|  13| -8|  A|      2013|Fixed wing multi ...|      AIRBUS|A320-214|      2|  182|   NA|Turbo-fan|\n",
            "| N309AS| SAN|2014|    4| 19|    1236|     -4.0|    1508|       -7|     AS|   490|   SEA|   135.0|  1050.0|  12|    36|              2.25|      San Diego Intl|32.733556|-117.189667|  17| -8|  A|      2001|Fixed wing multi ...|      BOEING| 737-990|      2|  149|   NA|Turbo-jet|\n",
            "| N564AS| ORD|2014|   11| 19|    1812|     -3.0|    2352|       -4|     AS|    26|   SEA|   198.0|  1721.0|  18|    12|               3.3|  Chicago Ohare Intl|41.978603| -87.904842| 668| -6|  A|      2006|Fixed wing multi ...|      BOEING| 737-890|      2|  149|   NA|Turbo-fan|\n",
            "+-------+----+----+-----+---+--------+---------+--------+---------+-------+------+------+--------+--------+----+------+------------------+--------------------+---------+-----------+----+---+---+----------+--------------------+------------+--------+-------+-----+-----+---------+\n",
            "only showing top 10 rows\n",
            "\n"
          ]
        }
      ]
    },
    {
      "cell_type": "code",
      "source": [
        "model_data.describe().show()"
      ],
      "metadata": {
        "colab": {
          "base_uri": "https://localhost:8080/"
        },
        "id": "J22KgSSiy_UN",
        "outputId": "df53cc16-e6d5-4a5a-ed91-20b008cbfeb6"
      },
      "execution_count": null,
      "outputs": [
        {
          "output_type": "stream",
          "name": "stdout",
          "text": [
            "+-------+-------+-----+------+------------------+-----------------+------------------+------------------+------------------+------------------+-------+-----------------+------+------------------+-----------------+------------------+-----------------+------------------+--------------------+------------------+-------------------+-----------------+------------------+-----+-----------------+--------------------+--------------------+-------------+--------------------+------------------+-----------------+-------------+\n",
            "|summary|tailnum| dest|  year|             month|              day|          dep_time|         dep_delay|          arr_time|         arr_delay|carrier|           flight|origin|          air_time|         distance|              hour|           minute|      duration_hrs|                name|               lat|                lon|              alt|                tz|  dst|       plane_year|                type|        manufacturer|        model|             engines|             seats|            speed|       engine|\n",
            "+-------+-------+-----+------+------------------+-----------------+------------------+------------------+------------------+------------------+-------+-----------------+------+------------------+-----------------+------------------+-----------------+------------------+--------------------+------------------+-------------------+-----------------+------------------+-----+-----------------+--------------------+--------------------+-------------+--------------------+------------------+-----------------+-------------+\n",
            "|  count|  10000|10000| 10000|             10000|            10000|             10000|              9952|             10000|             10000|  10000|            10000| 10000|              9925|            10000|             10000|            10000|              9925|               10000|             10000|              10000|            10000|             10000|10000|             9448|                9448|                9448|         9448|                9448|              9448|             9448|         9448|\n",
            "|   mean|   NULL| NULL|2014.0|            6.6438|          15.7009|1277.1158561093248| 6.068629421221865|1477.7236802413272|2.2530982367758186|   NULL|        1369.1011|  NULL|152.88423173803525|        1208.1516|12.465434083601286|30.57244774919614| 2.548070528967267|                NULL|38.487818909339445|-111.46755754418163|          977.555|           -7.2728| NULL|2001.594398118452|                NULL|                NULL|        150.0|  1.9993649449618967|159.77392040643522|             94.4|         NULL|\n",
            "| stddev|   NULL| NULL|   0.0|3.3191600205962097|8.895142019392079| 524.1142951055886|28.808608062751805| 526.5936522261665|31.074918600451877|   NULL|1498.714573831908|  NULL|  72.8656286392139|656.8599023464376| 5.246262953748826|17.98533264217002|1.2144271439868943|                NULL| 7.792885816603747| 19.763629167760634|1551.870934361067|1.2682038456413105| NULL|58.92921992728455|                NULL|                NULL|         NULL|0.032528968076681056| 54.35220392936495|9.838699100999074|         NULL|\n",
            "|    min| D942DN|  ABQ|  2014|                 1|                1|                 1|             -19.0|                 1|                -1|     AA|                2|   PDX|              20.0|             93.0|                 0|                0|0.3333333333333333|Albuquerque Inter...|         19.738767|        -159.338958|                4|               -10|    A|                0|Fixed wing multi ...|              AIRBUS|          150|                   1|                 2|              112|Reciprocating|\n",
            "|    max|     NA|  TUS|  2014|                12|               31|                NA|             886.0|                NA|                NA|     WN|             6527|   SEA|             409.0|           2724.0|                NA|               NA| 6.816666666666666|        Yampa Valley|         64.815114|         -71.005181|             6602|                -5|    N|               NA|          Rotorcraft|ROBINSON HELICOPT...|ZODIAC 601HDS|                   3|               400|               NA|  Turbo-shaft|\n",
            "+-------+-------+-----+------+------------------+-----------------+------------------+------------------+------------------+------------------+-------+-----------------+------+------------------+-----------------+------------------+-----------------+------------------+--------------------+------------------+-------------------+-----------------+------------------+-----+-----------------+--------------------+--------------------+-------------+--------------------+------------------+-----------------+-------------+\n",
            "\n"
          ]
        }
      ]
    },
    {
      "cell_type": "code",
      "source": [
        "model_data = model_data.withColumn(\"arr_delay\", model_data.arr_delay.cast(\"Integer\"))\n",
        "model_data = model_data.withColumn(\"air_time\",model_data.air_time.cast(\"integer\"))\n",
        "model_data = model_data.withColumn(\"month\",model_data.month.cast(\"integer\"))\n",
        "model_data = model_data.withColumn(\"plane_year\",model_data.plane_year.cast(\"integer\"))"
      ],
      "metadata": {
        "id": "R1xwXUfczE0E"
      },
      "execution_count": null,
      "outputs": []
    },
    {
      "cell_type": "code",
      "source": [
        "model_data.describe(\"arr_delay\",\"air_time\",\"month\",\"plane_year\").show()"
      ],
      "metadata": {
        "colab": {
          "base_uri": "https://localhost:8080/"
        },
        "id": "9fcDzNUhz240",
        "outputId": "7b785d52-c22e-4db6-a9b6-0d9cfd67b3be"
      },
      "execution_count": null,
      "outputs": [
        {
          "output_type": "stream",
          "name": "stdout",
          "text": [
            "+-------+------------------+------------------+------------------+-----------------+\n",
            "|summary|         arr_delay|          air_time|             month|       plane_year|\n",
            "+-------+------------------+------------------+------------------+-----------------+\n",
            "|  count|              9925|              9925|             10000|             9354|\n",
            "|   mean|2.2530982367758186|152.88423173803525|            6.6438|2001.594398118452|\n",
            "| stddev|31.074918600451877|  72.8656286392139|3.3191600205962097|58.92921992728455|\n",
            "|    min|               -58|                20|                 1|                0|\n",
            "|    max|               900|               409|                12|             2014|\n",
            "+-------+------------------+------------------+------------------+-----------------+\n",
            "\n"
          ]
        }
      ]
    },
    {
      "cell_type": "code",
      "source": [
        "# Create a new column\n",
        "model_data = model_data.withColumn(\"plane_age\",model_data.year-model_data.plane_year)"
      ],
      "metadata": {
        "id": "-91q0Cyy0ho9"
      },
      "execution_count": null,
      "outputs": []
    },
    {
      "cell_type": "code",
      "source": [
        "model_data.show(10)"
      ],
      "metadata": {
        "colab": {
          "base_uri": "https://localhost:8080/"
        },
        "id": "ox4BKjrd0qsm",
        "outputId": "4c33500a-4b02-4219-b0af-f22c182f7ed7"
      },
      "execution_count": null,
      "outputs": [
        {
          "output_type": "stream",
          "name": "stdout",
          "text": [
            "+-------+----+----+-----+---+--------+---------+--------+---------+-------+------+------+--------+--------+----+------+------------------+--------------------+---------+-----------+----+---+---+----------+--------------------+------------+--------+-------+-----+-----+---------+---------+\n",
            "|tailnum|dest|year|month|day|dep_time|dep_delay|arr_time|arr_delay|carrier|flight|origin|air_time|distance|hour|minute|      duration_hrs|                name|      lat|        lon| alt| tz|dst|plane_year|                type|manufacturer|   model|engines|seats|speed|   engine|plane_age|\n",
            "+-------+----+----+-----+---+--------+---------+--------+---------+-------+------+------+--------+--------+----+------+------------------+--------------------+---------+-----------+----+---+---+----------+--------------------+------------+--------+-------+-----+-----+---------+---------+\n",
            "| N846VA| LAX|2014|   12|  8|     658|     -7.0|     935|       -5|     VX|  1780|   SEA|     132|   954.0|   6|    58|               2.2|    Los Angeles Intl|33.942536|-118.408075| 126| -8|  A|      2011|Fixed wing multi ...|      AIRBUS|A320-214|      2|  182|   NA|Turbo-fan|        3|\n",
            "| N559AS| HNL|2014|    1| 22|    1040|      5.0|    1505|        5|     AS|   851|   SEA|     360|  2677.0|  10|    40|               6.0|       Honolulu Intl|21.318681|-157.922428|  13|-10|  N|      2006|Fixed wing multi ...|      BOEING| 737-890|      2|  149|   NA|Turbo-fan|        8|\n",
            "| N847VA| SFO|2014|    3|  9|    1443|     -2.0|    1652|        2|     VX|   755|   SEA|     111|   679.0|  14|    43|              1.85|  San Francisco Intl|37.618972|-122.374889|  13| -8|  A|      2011|Fixed wing multi ...|      AIRBUS|A320-214|      2|  182|   NA|Turbo-fan|        3|\n",
            "| N360SW| SJC|2014|    4|  9|    1705|     45.0|    1839|       34|     WN|   344|   PDX|      83|   569.0|  17|     5|1.3833333333333333|Norman Y Mineta S...|  37.3626|-121.929022|  62| -8|  A|      1992|Fixed wing multi ...|      BOEING| 737-3H4|      2|  149|   NA|Turbo-fan|       22|\n",
            "| N612AS| BUR|2014|    3|  9|     754|     -1.0|    1015|        1|     AS|   522|   SEA|     127|   937.0|   7|    54|2.1166666666666667|            Bob Hope|34.200667|-118.358667| 778| -8|  A|      1999|Fixed wing multi ...|      BOEING| 737-790|      2|  151|   NA|Turbo-jet|       15|\n",
            "| N646SW| DEN|2014|    1| 15|    1037|      7.0|    1352|        2|     WN|    48|   PDX|     121|   991.0|  10|    37|2.0166666666666666|         Denver Intl|39.861656|-104.673178|5431| -7|  A|      1997|Fixed wing multi ...|      BOEING| 737-3H4|      2|  149|   NA|Turbo-fan|       17|\n",
            "| N422WN| OAK|2014|    7|  2|     847|     42.0|    1041|       51|     WN|  1520|   PDX|      90|   543.0|   8|    47|               1.5|Metropolitan Oakl...|37.721278|-122.220722|   9| -8|  A|      2002|Fixed wing multi ...|      BOEING| 737-7H4|      2|  140|   NA|Turbo-fan|       12|\n",
            "| N361VA| SFO|2014|    5| 12|    1655|     -5.0|    1842|      -18|     VX|   755|   SEA|      98|   679.0|  16|    55|1.6333333333333333|  San Francisco Intl|37.618972|-122.374889|  13| -8|  A|      2013|Fixed wing multi ...|      AIRBUS|A320-214|      2|  182|   NA|Turbo-fan|        1|\n",
            "| N309AS| SAN|2014|    4| 19|    1236|     -4.0|    1508|       -7|     AS|   490|   SEA|     135|  1050.0|  12|    36|              2.25|      San Diego Intl|32.733556|-117.189667|  17| -8|  A|      2001|Fixed wing multi ...|      BOEING| 737-990|      2|  149|   NA|Turbo-jet|       13|\n",
            "| N564AS| ORD|2014|   11| 19|    1812|     -3.0|    2352|       -4|     AS|    26|   SEA|     198|  1721.0|  18|    12|               3.3|  Chicago Ohare Intl|41.978603| -87.904842| 668| -6|  A|      2006|Fixed wing multi ...|      BOEING| 737-890|      2|  149|   NA|Turbo-fan|        8|\n",
            "+-------+----+----+-----+---+--------+---------+--------+---------+-------+------+------+--------+--------+----+------+------------------+--------------------+---------+-----------+----+---+---+----------+--------------------+------------+--------+-------+-----+-----+---------+---------+\n",
            "only showing top 10 rows\n",
            "\n"
          ]
        }
      ]
    },
    {
      "cell_type": "code",
      "source": [
        "model_data = model_data.withColumn('is_late', model_data.arr_delay >0)\n",
        "\n",
        "model_data = model_data.withColumn('label', model_data.is_late.cast('integer'))\n",
        "\n",
        "model_data.filter(\"arr_delay is not NULL and dep_delay is not NULL and air_time is not NULL and plane_year is not NULL\").show()"
      ],
      "metadata": {
        "colab": {
          "base_uri": "https://localhost:8080/"
        },
        "id": "t_Afn-nD0vv0",
        "outputId": "00d905b9-0a10-451d-9ab1-e365657591a0"
      },
      "execution_count": null,
      "outputs": [
        {
          "output_type": "stream",
          "name": "stdout",
          "text": [
            "+-------+----+----+-----+---+--------+---------+--------+---------+-------+------+------+--------+--------+----+------+------------------+--------------------+---------+-----------+----+---+---+----------+--------------------+--------------+-----------+-------+-----+-----+---------+---------+-------+-----+\n",
            "|tailnum|dest|year|month|day|dep_time|dep_delay|arr_time|arr_delay|carrier|flight|origin|air_time|distance|hour|minute|      duration_hrs|                name|      lat|        lon| alt| tz|dst|plane_year|                type|  manufacturer|      model|engines|seats|speed|   engine|plane_age|is_late|label|\n",
            "+-------+----+----+-----+---+--------+---------+--------+---------+-------+------+------+--------+--------+----+------+------------------+--------------------+---------+-----------+----+---+---+----------+--------------------+--------------+-----------+-------+-----+-----+---------+---------+-------+-----+\n",
            "| N846VA| LAX|2014|   12|  8|     658|     -7.0|     935|       -5|     VX|  1780|   SEA|     132|   954.0|   6|    58|               2.2|    Los Angeles Intl|33.942536|-118.408075| 126| -8|  A|      2011|Fixed wing multi ...|        AIRBUS|   A320-214|      2|  182|   NA|Turbo-fan|        3|  false|    0|\n",
            "| N559AS| HNL|2014|    1| 22|    1040|      5.0|    1505|        5|     AS|   851|   SEA|     360|  2677.0|  10|    40|               6.0|       Honolulu Intl|21.318681|-157.922428|  13|-10|  N|      2006|Fixed wing multi ...|        BOEING|    737-890|      2|  149|   NA|Turbo-fan|        8|   true|    1|\n",
            "| N847VA| SFO|2014|    3|  9|    1443|     -2.0|    1652|        2|     VX|   755|   SEA|     111|   679.0|  14|    43|              1.85|  San Francisco Intl|37.618972|-122.374889|  13| -8|  A|      2011|Fixed wing multi ...|        AIRBUS|   A320-214|      2|  182|   NA|Turbo-fan|        3|   true|    1|\n",
            "| N360SW| SJC|2014|    4|  9|    1705|     45.0|    1839|       34|     WN|   344|   PDX|      83|   569.0|  17|     5|1.3833333333333333|Norman Y Mineta S...|  37.3626|-121.929022|  62| -8|  A|      1992|Fixed wing multi ...|        BOEING|    737-3H4|      2|  149|   NA|Turbo-fan|       22|   true|    1|\n",
            "| N612AS| BUR|2014|    3|  9|     754|     -1.0|    1015|        1|     AS|   522|   SEA|     127|   937.0|   7|    54|2.1166666666666667|            Bob Hope|34.200667|-118.358667| 778| -8|  A|      1999|Fixed wing multi ...|        BOEING|    737-790|      2|  151|   NA|Turbo-jet|       15|   true|    1|\n",
            "| N646SW| DEN|2014|    1| 15|    1037|      7.0|    1352|        2|     WN|    48|   PDX|     121|   991.0|  10|    37|2.0166666666666666|         Denver Intl|39.861656|-104.673178|5431| -7|  A|      1997|Fixed wing multi ...|        BOEING|    737-3H4|      2|  149|   NA|Turbo-fan|       17|   true|    1|\n",
            "| N422WN| OAK|2014|    7|  2|     847|     42.0|    1041|       51|     WN|  1520|   PDX|      90|   543.0|   8|    47|               1.5|Metropolitan Oakl...|37.721278|-122.220722|   9| -8|  A|      2002|Fixed wing multi ...|        BOEING|    737-7H4|      2|  140|   NA|Turbo-fan|       12|   true|    1|\n",
            "| N361VA| SFO|2014|    5| 12|    1655|     -5.0|    1842|      -18|     VX|   755|   SEA|      98|   679.0|  16|    55|1.6333333333333333|  San Francisco Intl|37.618972|-122.374889|  13| -8|  A|      2013|Fixed wing multi ...|        AIRBUS|   A320-214|      2|  182|   NA|Turbo-fan|        1|  false|    0|\n",
            "| N309AS| SAN|2014|    4| 19|    1236|     -4.0|    1508|       -7|     AS|   490|   SEA|     135|  1050.0|  12|    36|              2.25|      San Diego Intl|32.733556|-117.189667|  17| -8|  A|      2001|Fixed wing multi ...|        BOEING|    737-990|      2|  149|   NA|Turbo-jet|       13|  false|    0|\n",
            "| N564AS| ORD|2014|   11| 19|    1812|     -3.0|    2352|       -4|     AS|    26|   SEA|     198|  1721.0|  18|    12|               3.3|  Chicago Ohare Intl|41.978603| -87.904842| 668| -6|  A|      2006|Fixed wing multi ...|        BOEING|    737-890|      2|  149|   NA|Turbo-fan|        8|  false|    0|\n",
            "| N323AS| LAX|2014|   11|  8|    1653|     -2.0|    1924|       -1|     AS|   448|   SEA|     130|   954.0|  16|    53|2.1666666666666665|    Los Angeles Intl|33.942536|-118.408075| 126| -8|  A|      2004|Fixed wing multi ...|        BOEING|    737-990|      2|  149|   NA|Turbo-jet|       10|  false|    0|\n",
            "| N305AS| PHX|2014|    8|  3|    1120|      0.0|    1415|        2|     AS|   656|   SEA|     154|  1107.0|  11|    20| 2.566666666666667|Phoenix Sky Harbo...|33.434278|-112.011583|1135| -7|  N|      2001|Fixed wing multi ...|        BOEING|    737-990|      2|  149|   NA|Turbo-jet|       13|   true|    1|\n",
            "| N433AS| LAS|2014|   10| 30|     811|     21.0|    1038|       29|     AS|   608|   SEA|     127|   867.0|   8|    11|2.1166666666666667|      Mc Carran Intl|36.080056| -115.15225|2141| -8|  A|      2013|Fixed wing multi ...|        BOEING|  737-990ER|      2|  222|   NA|Turbo-fan|        1|   true|    1|\n",
            "| N765AS| ANC|2014|   11| 12|    2346|     -4.0|     217|      -28|     AS|   121|   SEA|     183|  1448.0|  23|    46|              3.05|Ted Stevens Ancho...|61.174361|-149.996361| 152| -9|  A|      1992|Fixed wing multi ...|        BOEING|    737-4Q8|      2|  149|   NA|Turbo-fan|       22|  false|    0|\n",
            "| N713AS| SFO|2014|   10| 31|    1314|     89.0|    1544|      111|     AS|   306|   SEA|     129|   679.0|  13|    14|              2.15|  San Francisco Intl|37.618972|-122.374889|  13| -8|  A|      1999|Fixed wing multi ...|        BOEING|    737-490|      2|  149|   NA|Turbo-jet|       15|   true|    1|\n",
            "| N27205| SFO|2014|    1| 29|    2009|      3.0|    2159|        9|     UA|  1458|   PDX|      90|   550.0|  20|     9|               1.5|  San Francisco Intl|37.618972|-122.374889|  13| -8|  A|      2000|Fixed wing multi ...|        BOEING|    737-824|      2|  149|   NA|Turbo-fan|       14|   true|    1|\n",
            "| N626AS| SMF|2014|   12| 17|    2015|     50.0|    2150|       41|     AS|   368|   SEA|      76|   605.0|  20|    15|1.2666666666666666|     Sacramento Intl|38.695417|-121.590778|  27| -8|  A|      2001|Fixed wing multi ...|        BOEING|    737-790|      2|  151|   NA|Turbo-jet|       13|   true|    1|\n",
            "| N8634A| MDW|2014|    8| 11|    1017|     -3.0|    1613|       -7|     WN|   827|   SEA|     216|  1733.0|  10|    17|               3.6| Chicago Midway Intl|41.785972| -87.752417| 620| -6|  A|      2014|Fixed wing multi ...|        BOEING|    737-8H4|      2|  140|   NA|Turbo-fan|        0|  false|    0|\n",
            "| N597AS| BOS|2014|    1| 13|    2156|     -9.0|     607|      -15|     AS|    24|   SEA|     290|  2496.0|  21|    56| 4.833333333333333|General Edward La...|42.364347| -71.005181|  19| -5|  A|      2008|Fixed wing multi ...|        BOEING|    737-890|      2|  149|   NA|Turbo-fan|        6|  false|    0|\n",
            "| N215AG| BUR|2014|    6|  5|    1733|    -12.0|    1945|      -10|     OO|  3488|   PDX|     111|   817.0|  17|    33|              1.85|            Bob Hope|34.200667|-118.358667| 778| -8|  A|      2001|Fixed wing multi ...|BOMBARDIER INC|CL-600-2C10|      2|   80|   NA|Turbo-fan|       13|  false|    0|\n",
            "+-------+----+----+-----+---+--------+---------+--------+---------+-------+------+------+--------+--------+----+------+------------------+--------------------+---------+-----------+----+---+---+----------+--------------------+--------------+-----------+-------+-----+-----+---------+---------+-------+-----+\n",
            "only showing top 20 rows\n",
            "\n"
          ]
        }
      ]
    },
    {
      "cell_type": "code",
      "source": [
        "from pyspark.ml.feature import StringIndexer, OneHotEncoder"
      ],
      "metadata": {
        "id": "NuJV-qBi0_Mc"
      },
      "execution_count": null,
      "outputs": []
    },
    {
      "cell_type": "code",
      "source": [
        "#Create a StringIndexer\n",
        "carr_indexer = StringIndexer(inputCol='carrier', outputCol='carrier_index')\n",
        "#Create a OneHotEncoder\n",
        "carr_encoder = OneHotEncoder(inputCol='carrier_index', outputCol='carr_fact')"
      ],
      "metadata": {
        "id": "S2LMTSnG1OSp"
      },
      "execution_count": null,
      "outputs": []
    },
    {
      "cell_type": "code",
      "source": [
        "# encode the dest column just like you did above\n",
        "dest_indexer = StringIndexer(inputCol='dest', outputCol='dest_index')\n",
        "dest_encoder = OneHotEncoder(inputCol='dest_index', outputCol='dest_fact')"
      ],
      "metadata": {
        "id": "5BEALwSx1U7c"
      },
      "execution_count": null,
      "outputs": []
    },
    {
      "cell_type": "code",
      "source": [
        "#Assemble a Vector\n",
        "from pyspark.ml.feature import VectorAssembler"
      ],
      "metadata": {
        "id": "Doxw2jUo16qC"
      },
      "execution_count": null,
      "outputs": []
    },
    {
      "cell_type": "code",
      "source": [
        "vec_assembler =VectorAssembler(inputCols=['month', 'air_time','carr_fact','dest_fact','plane_age'],\n",
        "                              outputCol='features',handleInvalid=\"skip\")"
      ],
      "metadata": {
        "id": "6Bi5aHdF2C2H"
      },
      "execution_count": null,
      "outputs": []
    },
    {
      "cell_type": "code",
      "source": [
        "# #### Create the pipeline\n",
        "# You're finally ready to create a` Pipeline!` Pipeline is a class in the `pyspark.ml module` that combines all the Estimators and Transformers that you've already created.\n",
        "\n",
        "from pyspark.ml import Pipeline\n",
        "\n",
        "flights_pipe = Pipeline(stages=[dest_indexer, dest_encoder, carr_indexer, carr_encoder, vec_assembler])"
      ],
      "metadata": {
        "id": "WuN-oGR92Fu6"
      },
      "execution_count": null,
      "outputs": []
    },
    {
      "cell_type": "code",
      "source": [
        "piped_data =flights_pipe.fit(model_data).transform(model_data)"
      ],
      "metadata": {
        "id": "0YQPYqjL2Nh_"
      },
      "execution_count": null,
      "outputs": []
    },
    {
      "cell_type": "code",
      "source": [
        "piped_data.show()"
      ],
      "metadata": {
        "colab": {
          "base_uri": "https://localhost:8080/"
        },
        "id": "74YiodFz2R89",
        "outputId": "14330f71-359a-4d76-d023-2dd4f6814429"
      },
      "execution_count": null,
      "outputs": [
        {
          "output_type": "stream",
          "name": "stdout",
          "text": [
            "+-------+----+----+-----+---+--------+---------+--------+---------+-------+------+------+--------+--------+----+------+------------------+--------------------+---------+-----------+----+---+---+----------+--------------------+--------------+-----------+-------+-----+-----+---------+---------+-------+-----+----------+---------------+-------------+--------------+--------------------+\n",
            "|tailnum|dest|year|month|day|dep_time|dep_delay|arr_time|arr_delay|carrier|flight|origin|air_time|distance|hour|minute|      duration_hrs|                name|      lat|        lon| alt| tz|dst|plane_year|                type|  manufacturer|      model|engines|seats|speed|   engine|plane_age|is_late|label|dest_index|      dest_fact|carrier_index|     carr_fact|            features|\n",
            "+-------+----+----+-----+---+--------+---------+--------+---------+-------+------+------+--------+--------+----+------+------------------+--------------------+---------+-----------+----+---+---+----------+--------------------+--------------+-----------+-------+-----+-----+---------+---------+-------+-----+----------+---------------+-------------+--------------+--------------------+\n",
            "| N846VA| LAX|2014|   12|  8|     658|     -7.0|     935|       -5|     VX|  1780|   SEA|     132|   954.0|   6|    58|               2.2|    Los Angeles Intl|33.942536|-118.408075| 126| -8|  A|      2011|Fixed wing multi ...|        AIRBUS|   A320-214|      2|  182|   NA|Turbo-fan|        3|  false|    0|       1.0| (68,[1],[1.0])|          8.0|(10,[8],[1.0])|(81,[0,1,10,13,80...|\n",
            "| N559AS| HNL|2014|    1| 22|    1040|      5.0|    1505|        5|     AS|   851|   SEA|     360|  2677.0|  10|    40|               6.0|       Honolulu Intl|21.318681|-157.922428|  13|-10|  N|      2006|Fixed wing multi ...|        BOEING|    737-890|      2|  149|   NA|Turbo-fan|        8|   true|    1|      22.0|(68,[22],[1.0])|          0.0|(10,[0],[1.0])|(81,[0,1,2,34,80]...|\n",
            "| N847VA| SFO|2014|    3|  9|    1443|     -2.0|    1652|        2|     VX|   755|   SEA|     111|   679.0|  14|    43|              1.85|  San Francisco Intl|37.618972|-122.374889|  13| -8|  A|      2011|Fixed wing multi ...|        AIRBUS|   A320-214|      2|  182|   NA|Turbo-fan|        3|   true|    1|       0.0| (68,[0],[1.0])|          8.0|(10,[8],[1.0])|(81,[0,1,10,12,80...|\n",
            "| N360SW| SJC|2014|    4|  9|    1705|     45.0|    1839|       34|     WN|   344|   PDX|      83|   569.0|  17|     5|1.3833333333333333|Norman Y Mineta S...|  37.3626|-121.929022|  62| -8|  A|      1992|Fixed wing multi ...|        BOEING|    737-3H4|      2|  149|   NA|Turbo-fan|       22|   true|    1|       9.0| (68,[9],[1.0])|          1.0|(10,[1],[1.0])|(81,[0,1,3,21,80]...|\n",
            "| N612AS| BUR|2014|    3|  9|     754|     -1.0|    1015|        1|     AS|   522|   SEA|     127|   937.0|   7|    54|2.1166666666666667|            Bob Hope|34.200667|-118.358667| 778| -8|  A|      1999|Fixed wing multi ...|        BOEING|    737-790|      2|  151|   NA|Turbo-jet|       15|   true|    1|      23.0|(68,[23],[1.0])|          0.0|(10,[0],[1.0])|(81,[0,1,2,35,80]...|\n",
            "| N646SW| DEN|2014|    1| 15|    1037|      7.0|    1352|        2|     WN|    48|   PDX|     121|   991.0|  10|    37|2.0166666666666666|         Denver Intl|39.861656|-104.673178|5431| -7|  A|      1997|Fixed wing multi ...|        BOEING|    737-3H4|      2|  149|   NA|Turbo-fan|       17|   true|    1|       2.0| (68,[2],[1.0])|          1.0|(10,[1],[1.0])|(81,[0,1,3,14,80]...|\n",
            "| N422WN| OAK|2014|    7|  2|     847|     42.0|    1041|       51|     WN|  1520|   PDX|      90|   543.0|   8|    47|               1.5|Metropolitan Oakl...|37.721278|-122.220722|   9| -8|  A|      2002|Fixed wing multi ...|        BOEING|    737-7H4|      2|  140|   NA|Turbo-fan|       12|   true|    1|      10.0|(68,[10],[1.0])|          1.0|(10,[1],[1.0])|(81,[0,1,3,22,80]...|\n",
            "| N361VA| SFO|2014|    5| 12|    1655|     -5.0|    1842|      -18|     VX|   755|   SEA|      98|   679.0|  16|    55|1.6333333333333333|  San Francisco Intl|37.618972|-122.374889|  13| -8|  A|      2013|Fixed wing multi ...|        AIRBUS|   A320-214|      2|  182|   NA|Turbo-fan|        1|  false|    0|       0.0| (68,[0],[1.0])|          8.0|(10,[8],[1.0])|(81,[0,1,10,12,80...|\n",
            "| N309AS| SAN|2014|    4| 19|    1236|     -4.0|    1508|       -7|     AS|   490|   SEA|     135|  1050.0|  12|    36|              2.25|      San Diego Intl|32.733556|-117.189667|  17| -8|  A|      2001|Fixed wing multi ...|        BOEING|    737-990|      2|  149|   NA|Turbo-jet|       13|  false|    0|      12.0|(68,[12],[1.0])|          0.0|(10,[0],[1.0])|(81,[0,1,2,24,80]...|\n",
            "| N564AS| ORD|2014|   11| 19|    1812|     -3.0|    2352|       -4|     AS|    26|   SEA|     198|  1721.0|  18|    12|               3.3|  Chicago Ohare Intl|41.978603| -87.904842| 668| -6|  A|      2006|Fixed wing multi ...|        BOEING|    737-890|      2|  149|   NA|Turbo-fan|        8|  false|    0|       6.0| (68,[6],[1.0])|          0.0|(10,[0],[1.0])|(81,[0,1,2,18,80]...|\n",
            "| N323AS| LAX|2014|   11|  8|    1653|     -2.0|    1924|       -1|     AS|   448|   SEA|     130|   954.0|  16|    53|2.1666666666666665|    Los Angeles Intl|33.942536|-118.408075| 126| -8|  A|      2004|Fixed wing multi ...|        BOEING|    737-990|      2|  149|   NA|Turbo-jet|       10|  false|    0|       1.0| (68,[1],[1.0])|          0.0|(10,[0],[1.0])|(81,[0,1,2,13,80]...|\n",
            "| N305AS| PHX|2014|    8|  3|    1120|      0.0|    1415|        2|     AS|   656|   SEA|     154|  1107.0|  11|    20| 2.566666666666667|Phoenix Sky Harbo...|33.434278|-112.011583|1135| -7|  N|      2001|Fixed wing multi ...|        BOEING|    737-990|      2|  149|   NA|Turbo-jet|       13|   true|    1|       3.0| (68,[3],[1.0])|          0.0|(10,[0],[1.0])|(81,[0,1,2,15,80]...|\n",
            "| N433AS| LAS|2014|   10| 30|     811|     21.0|    1038|       29|     AS|   608|   SEA|     127|   867.0|   8|    11|2.1166666666666667|      Mc Carran Intl|36.080056| -115.15225|2141| -8|  A|      2013|Fixed wing multi ...|        BOEING|  737-990ER|      2|  222|   NA|Turbo-fan|        1|   true|    1|       4.0| (68,[4],[1.0])|          0.0|(10,[0],[1.0])|(81,[0,1,2,16,80]...|\n",
            "| N765AS| ANC|2014|   11| 12|    2346|     -4.0|     217|      -28|     AS|   121|   SEA|     183|  1448.0|  23|    46|              3.05|Ted Stevens Ancho...|61.174361|-149.996361| 152| -9|  A|      1992|Fixed wing multi ...|        BOEING|    737-4Q8|      2|  149|   NA|Turbo-fan|       22|  false|    0|       5.0| (68,[5],[1.0])|          0.0|(10,[0],[1.0])|(81,[0,1,2,17,80]...|\n",
            "| N713AS| SFO|2014|   10| 31|    1314|     89.0|    1544|      111|     AS|   306|   SEA|     129|   679.0|  13|    14|              2.15|  San Francisco Intl|37.618972|-122.374889|  13| -8|  A|      1999|Fixed wing multi ...|        BOEING|    737-490|      2|  149|   NA|Turbo-jet|       15|   true|    1|       0.0| (68,[0],[1.0])|          0.0|(10,[0],[1.0])|(81,[0,1,2,12,80]...|\n",
            "| N27205| SFO|2014|    1| 29|    2009|      3.0|    2159|        9|     UA|  1458|   PDX|      90|   550.0|  20|     9|               1.5|  San Francisco Intl|37.618972|-122.374889|  13| -8|  A|      2000|Fixed wing multi ...|        BOEING|    737-824|      2|  149|   NA|Turbo-fan|       14|   true|    1|       0.0| (68,[0],[1.0])|          4.0|(10,[4],[1.0])|(81,[0,1,6,12,80]...|\n",
            "| N626AS| SMF|2014|   12| 17|    2015|     50.0|    2150|       41|     AS|   368|   SEA|      76|   605.0|  20|    15|1.2666666666666666|     Sacramento Intl|38.695417|-121.590778|  27| -8|  A|      2001|Fixed wing multi ...|        BOEING|    737-790|      2|  151|   NA|Turbo-jet|       13|   true|    1|      11.0|(68,[11],[1.0])|          0.0|(10,[0],[1.0])|(81,[0,1,2,23,80]...|\n",
            "| N8634A| MDW|2014|    8| 11|    1017|     -3.0|    1613|       -7|     WN|   827|   SEA|     216|  1733.0|  10|    17|               3.6| Chicago Midway Intl|41.785972| -87.752417| 620| -6|  A|      2014|Fixed wing multi ...|        BOEING|    737-8H4|      2|  140|   NA|Turbo-fan|        0|  false|    0|      30.0|(68,[30],[1.0])|          1.0|(10,[1],[1.0])|(81,[0,1,3,42],[8...|\n",
            "| N597AS| BOS|2014|    1| 13|    2156|     -9.0|     607|      -15|     AS|    24|   SEA|     290|  2496.0|  21|    56| 4.833333333333333|General Edward La...|42.364347| -71.005181|  19| -5|  A|      2008|Fixed wing multi ...|        BOEING|    737-890|      2|  149|   NA|Turbo-fan|        6|  false|    0|      24.0|(68,[24],[1.0])|          0.0|(10,[0],[1.0])|(81,[0,1,2,36,80]...|\n",
            "| N215AG| BUR|2014|    6|  5|    1733|    -12.0|    1945|      -10|     OO|  3488|   PDX|     111|   817.0|  17|    33|              1.85|            Bob Hope|34.200667|-118.358667| 778| -8|  A|      2001|Fixed wing multi ...|BOMBARDIER INC|CL-600-2C10|      2|   80|   NA|Turbo-fan|       13|  false|    0|      23.0|(68,[23],[1.0])|          2.0|(10,[2],[1.0])|(81,[0,1,4,35,80]...|\n",
            "+-------+----+----+-----+---+--------+---------+--------+---------+-------+------+------+--------+--------+----+------+------------------+--------------------+---------+-----------+----+---+---+----------+--------------------+--------------+-----------+-------+-----+-----+---------+---------+-------+-----+----------+---------------+-------------+--------------+--------------------+\n",
            "only showing top 20 rows\n",
            "\n"
          ]
        }
      ]
    },
    {
      "cell_type": "code",
      "source": [
        "training, test = piped_data.randomSplit([.6, .4])"
      ],
      "metadata": {
        "id": "QACDRI_72USx"
      },
      "execution_count": null,
      "outputs": []
    },
    {
      "cell_type": "code",
      "source": [
        "from pyspark.ml.classification import LogisticRegression\n",
        "\n",
        "lr = LogisticRegression()"
      ],
      "metadata": {
        "id": "yaLFiBLM2ZG1"
      },
      "execution_count": null,
      "outputs": []
    },
    {
      "cell_type": "code",
      "source": [
        "# #### Create the evaluator\n",
        "# The first thing you need when doing cross validation for model selection is a way to compare different models. Luckily, the pyspark.ml.evaluation submodule has classes for evaluating different kinds of models. Your model is a binary classification model, so you'll be using the `BinaryClassificationEvaluator` from the `pyspark.ml.evaluation` module. This evaluator calculates the area under the ROC. This is a metric that combines the two kinds of errors a binary classifier can make (false positives and false negatives) into a simple number.\n",
        "\n",
        "import pyspark.ml.evaluation as evals\n",
        "\n",
        "evaluator = evals.BinaryClassificationEvaluator(metricName='areaUnderROC')"
      ],
      "metadata": {
        "id": "yfEzmhMg2bbn"
      },
      "execution_count": null,
      "outputs": []
    },
    {
      "cell_type": "code",
      "source": [
        "# Import the tuning submodule\n",
        "import pyspark.ml.tuning as tune\n",
        "\n",
        "# Create the parameter grid\n",
        "grid = tune.ParamGridBuilder()\n",
        "\n",
        "# Add the hyperparameter\n",
        "grid = grid.addGrid(lr.regParam, np.arange(0, .1, .01))\n",
        "grid = grid.addGrid(lr.elasticNetParam, [0,1])\n",
        "\n",
        "# Build the grid\n",
        "grid = grid.build()"
      ],
      "metadata": {
        "id": "YOP16V8O2kHz"
      },
      "execution_count": null,
      "outputs": []
    },
    {
      "cell_type": "code",
      "source": [
        "# Create the CrossValidator\n",
        "cv = tune.CrossValidator(estimator=lr,\n",
        "               estimatorParamMaps=grid,\n",
        "               evaluator=evaluator\n",
        "               )"
      ],
      "metadata": {
        "id": "0UpG0bM42l2-"
      },
      "execution_count": null,
      "outputs": []
    },
    {
      "cell_type": "code",
      "source": [
        "# Fit cross validation models\n",
        "models = cv.fit(training)"
      ],
      "metadata": {
        "id": "VZS7GiTG2oBD"
      },
      "execution_count": null,
      "outputs": []
    },
    {
      "cell_type": "code",
      "source": [
        "# Extract the best model\n",
        "best_lr = models.bestModel"
      ],
      "metadata": {
        "id": "meLUu9wL2qH-"
      },
      "execution_count": null,
      "outputs": []
    },
    {
      "cell_type": "code",
      "source": [
        "# Use the model to predict the test set\n",
        "test_results = best_lr.transform(test)\n",
        "#\n",
        "# Evaluate the predictions\n",
        "print(evaluator.evaluate(test_results))"
      ],
      "metadata": {
        "colab": {
          "base_uri": "https://localhost:8080/"
        },
        "id": "Ev2eMP4a2sHF",
        "outputId": "765c7f87-c7c7-4d89-d3cc-da6da2caa8db"
      },
      "execution_count": null,
      "outputs": [
        {
          "output_type": "stream",
          "name": "stdout",
          "text": [
            "0.6934787628845274\n"
          ]
        }
      ]
    },
    {
      "cell_type": "code",
      "source": [],
      "metadata": {
        "id": "h-D23aRG3S96"
      },
      "execution_count": null,
      "outputs": []
    }
  ]
}